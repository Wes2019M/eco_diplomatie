{
 "cells": [
  {
   "cell_type": "markdown",
   "metadata": {
    "hide_input": false
   },
   "source": [
    "# Eco-diplomatie - Team FOWAC"
   ]
  },
  {
   "cell_type": "code",
   "execution_count": 113,
   "metadata": {
    "hide_input": false
   },
   "outputs": [],
   "source": [
    "import pandas as pd\n",
    "import numpy as np\n",
    "from sklearn.impute import SimpleImputer\n",
    "from sklearn import preprocessing\n",
    "\n",
    "import seaborn as sns\n",
    "import matplotlib.pyplot as plt\n",
    "sns.set(style=\"whitegrid\")\n",
    "\n",
    "from IPython.display import display_html\n",
    "from sklearn.preprocessing import LabelEncoder\n",
    "from sklearn.model_selection import train_test_split\n",
    "from sklearn.neural_network import MLPClassifier\n",
    "from sklearn.tree import DecisionTreeClassifier\n",
    "from sklearn.ensemble import RandomForestClassifier\n",
    "\n",
    "from sklearn.metrics import mean_squared_error\n",
    "from sklearn import linear_model\n",
    "from sklearn.linear_model import LinearRegression\n",
    "from sklearn.metrics import r2_score\n",
    "\n",
    "%matplotlib inline\n",
    "\n",
    "from scipy import stats\n",
    "import seaborn as sns\n",
    "import statsmodels.api as sm\n",
    "\n",
    "from sklearn.preprocessing import scale \n",
    "from sklearn.model_selection import train_test_split\n",
    "from sklearn.linear_model import Ridge, RidgeCV, Lasso, LassoCV\n",
    "from sklearn.metrics import mean_squared_error\n",
    "\n",
    "\n",
    "pd.set_option('display.max_rows', 500)\n",
    "pd.set_option('display.max_columns', 500)\n",
    "pd.set_option('display.width', 1000)"
   ]
  },
  {
   "cell_type": "markdown",
   "metadata": {
    "heading_collapsed": true,
    "hide_input": true
   },
   "source": [
    "### Import dataset & traitements valeurs manquantes"
   ]
  },
  {
   "cell_type": "code",
   "execution_count": 114,
   "metadata": {
    "hide_input": true
   },
   "outputs": [],
   "source": [
    "# Import dataset avec exclusion header & footer\n",
    "df = pd.read_excel('DATABASE.xls', index_col=0, skiprows=[0,1,2], skipfooter=42) \n",
    "\n",
    "# Rename columns\n",
    "df = df.rename(columns={'Sender c': 'Sender1', \n",
    "                        'Sender 2c': 'Sender2', \n",
    "                        'Sender 3c': 'Sender3', \n",
    "                        'Targetd': 'Target',\n",
    "                        'US casee': 'US_case', \n",
    "                        'US unilateral casef': 'US_unilateral_case', \n",
    "                        'Foreign policy goal categoryg': 'Goal_categ', \n",
    "                        'First yearh': 'First_year',\n",
    "                        'Last yeari': 'Last_year', \n",
    "                        'Policy resultj': 'Policy_result', \n",
    "                        'Sanctions contributionk': 'Sanctions_contrib',\n",
    "                        'Success \\nscorel': 'Success_score', \n",
    "                        'Companion policiesm': 'Comp_policies', \n",
    "                        'International cooperationn':'Int_coop', \n",
    "                        'International assistanceo': 'Int_assistance', \n",
    "                        'Cooperating international organizationp': 'Coop_int_org',\n",
    "                        'International organization senderq': 'Int_org_sender', \n",
    "                        'International organization sender & target membersr': 'Int_org_sender_&_target_members', \n",
    "                        'Length (years)s': 'Length_years',\n",
    "                        'Prior relationst': 'Prior_relations', \n",
    "                        'Regime Type \\n(DEMOC 1st year)u': 'Regime_type', \n",
    "                        'Regime Type2 (Polity2 1st year)v': 'Regime_type2', \n",
    "                        'Regime Type3 \\n(Scale 1st year)w': 'Regime_type3',\n",
    "                        'Political stability priorx': 'Political_stability_prior', \n",
    "                        'Political stability duringy': 'Political_stability_during',\n",
    "                        'Cost to targetz': 'Cost_to_target', \n",
    "                        'Cost to target (percent of GNP)aa': 'Cost_to_target_%GNP',\n",
    "                        'Cost to target per capitabb': 'Cost_to_target_per_capita', \n",
    "                        'Trade linkagecc': 'Trade_linkage', \n",
    "                        'GNP \\nratiodd': 'GNP_ratio',\n",
    "                        'Health and stabilityee': 'Health_&_stability', \n",
    "                        'Sanction typeff': 'Sanction_type', \n",
    "                        'Cost to sendergg': 'Cost_to_sender',\n",
    "                        'GDP growth (percent, 5-year average)hh': 'GDP_growth%5years_average', \n",
    "                        'Inflation (percent,\\n 3-year average)ii':'Inflation%3years_average', \n",
    "                        'Target International Monetary Fund codejj': 'Target_int_monetary_code', \n",
    "                        'Country groupkk': 'Country_group'\n",
    "                       })\n",
    "# rename index\n",
    "df.index.names = ['id_case']\n",
    "\n",
    "# Remplacement des '--' en 0 puis conversion en numérique\n",
    "df['Cost_to_target_%GNP'] = df['Cost_to_target_%GNP'].astype('str')\n",
    "df['Cost_to_target_%GNP'] = df['Cost_to_target_%GNP'].str.replace('--', '0')\n",
    "df['Cost_to_target_%GNP'] = pd.to_numeric(df['Cost_to_target_%GNP'])\n",
    "\n",
    "# # Remplacement des '--' en 0 puis conversion en numérique\n",
    "df['Cost_to_target'] = df['Cost_to_target'].astype('str')\n",
    "df['Cost_to_target'] = df['Cost_to_target'].str.replace('--', '0')\n",
    "df['Cost_to_target'] = pd.to_numeric(df['Cost_to_target'])\n",
    "\n",
    "# # Remplacement des '--' en 0 puis conversion en numérique\n",
    "df['Cost_to_target_per_capita'] = df['Cost_to_target_per_capita'].astype('str')\n",
    "df['Cost_to_target_per_capita'] = df['Cost_to_target_per_capita'].str.replace('--', '0')\n",
    "df['Cost_to_target_per_capita'] = pd.to_numeric(df['Cost_to_target_per_capita'])\n",
    "\n",
    "# df[['Cost_to_target_%GNP', 'Cost_to_target', 'Cost_to_target_per_capita']].dtypes\n",
    "\n",
    "#  remplacement des n.a. par NaN\n",
    "df['GDP_growth%5years_average'] = df['GDP_growth%5years_average'].astype('str')\n",
    "df['GDP_growth%5years_average'] = df['GDP_growth%5years_average'].str.replace('n.a.', '')\n",
    "df['GDP_growth%5years_average'] = pd.to_numeric(df['GDP_growth%5years_average'])\n",
    "\n",
    "df['GDP_growth%5years_average'].head()\n",
    "# df['GDP_growth%5years_average'].dtypes\n",
    "# df['GDP_growth%5years_average'].isna().sum()\n",
    "\n",
    "# Suppression de la virgule '--' restent tels quels\n",
    "df['Comp_policies'] = df['Comp_policies'].str.replace(',', '')\n",
    "# df['Comp_policies'].head()"
   ]
  },
  {
   "cell_type": "code",
   "execution_count": 115,
   "metadata": {
    "scrolled": true
   },
   "outputs": [
    {
     "data": {
      "text/html": [
       "<div>\n",
       "<style scoped>\n",
       "    .dataframe tbody tr th:only-of-type {\n",
       "        vertical-align: middle;\n",
       "    }\n",
       "\n",
       "    .dataframe tbody tr th {\n",
       "        vertical-align: top;\n",
       "    }\n",
       "\n",
       "    .dataframe thead th {\n",
       "        text-align: right;\n",
       "    }\n",
       "</style>\n",
       "<table border=\"1\" class=\"dataframe\">\n",
       "  <thead>\n",
       "    <tr style=\"text-align: right;\">\n",
       "      <th></th>\n",
       "      <th>Sender1</th>\n",
       "      <th>Sender2</th>\n",
       "      <th>Sender3</th>\n",
       "      <th>Target</th>\n",
       "      <th>Goal</th>\n",
       "      <th>US_case</th>\n",
       "      <th>US_unilateral_case</th>\n",
       "      <th>Goal_categ</th>\n",
       "      <th>First_year</th>\n",
       "      <th>Last_year</th>\n",
       "      <th>Policy_result</th>\n",
       "      <th>Sanctions_contrib</th>\n",
       "      <th>Success_score</th>\n",
       "      <th>Comp_policies</th>\n",
       "      <th>Int_coop</th>\n",
       "      <th>Int_assistance</th>\n",
       "      <th>Coop_int_org</th>\n",
       "      <th>Int_org_sender</th>\n",
       "      <th>Int_org_sender_&amp;_target_members</th>\n",
       "      <th>Length_years</th>\n",
       "      <th>Prior_relations</th>\n",
       "      <th>Regime_type</th>\n",
       "      <th>Regime_type2</th>\n",
       "      <th>Regime_type3</th>\n",
       "      <th>Political_stability_prior</th>\n",
       "      <th>Political_stability_during</th>\n",
       "      <th>Cost_to_target</th>\n",
       "      <th>Cost_to_target_%GNP</th>\n",
       "      <th>Cost_to_target_per_capita</th>\n",
       "      <th>Trade_linkage</th>\n",
       "      <th>GNP_ratio</th>\n",
       "      <th>Health_&amp;_stability</th>\n",
       "      <th>Sanction_type</th>\n",
       "      <th>Cost_to_sender</th>\n",
       "      <th>GDP_growth%5years_average</th>\n",
       "      <th>Inflation%3years_average</th>\n",
       "      <th>Target_int_monetary_code</th>\n",
       "      <th>Country_group</th>\n",
       "    </tr>\n",
       "    <tr>\n",
       "      <th>id_case</th>\n",
       "      <th></th>\n",
       "      <th></th>\n",
       "      <th></th>\n",
       "      <th></th>\n",
       "      <th></th>\n",
       "      <th></th>\n",
       "      <th></th>\n",
       "      <th></th>\n",
       "      <th></th>\n",
       "      <th></th>\n",
       "      <th></th>\n",
       "      <th></th>\n",
       "      <th></th>\n",
       "      <th></th>\n",
       "      <th></th>\n",
       "      <th></th>\n",
       "      <th></th>\n",
       "      <th></th>\n",
       "      <th></th>\n",
       "      <th></th>\n",
       "      <th></th>\n",
       "      <th></th>\n",
       "      <th></th>\n",
       "      <th></th>\n",
       "      <th></th>\n",
       "      <th></th>\n",
       "      <th></th>\n",
       "      <th></th>\n",
       "      <th></th>\n",
       "      <th></th>\n",
       "      <th></th>\n",
       "      <th></th>\n",
       "      <th></th>\n",
       "      <th></th>\n",
       "      <th></th>\n",
       "      <th></th>\n",
       "      <th></th>\n",
       "      <th></th>\n",
       "    </tr>\n",
       "  </thead>\n",
       "  <tbody>\n",
       "    <tr>\n",
       "      <th>14-1</th>\n",
       "      <td>UNITED KINGDOM</td>\n",
       "      <td>NaN</td>\n",
       "      <td>NaN</td>\n",
       "      <td>GERMANY</td>\n",
       "      <td>Military victory</td>\n",
       "      <td>0</td>\n",
       "      <td>0</td>\n",
       "      <td>4</td>\n",
       "      <td>1914</td>\n",
       "      <td>1918</td>\n",
       "      <td>4</td>\n",
       "      <td>3</td>\n",
       "      <td>12</td>\n",
       "      <td>R</td>\n",
       "      <td>4</td>\n",
       "      <td>A</td>\n",
       "      <td>--</td>\n",
       "      <td>0</td>\n",
       "      <td>0</td>\n",
       "      <td>4</td>\n",
       "      <td>1</td>\n",
       "      <td>5</td>\n",
       "      <td>2</td>\n",
       "      <td>2</td>\n",
       "      <td>0</td>\n",
       "      <td>0</td>\n",
       "      <td>843.0</td>\n",
       "      <td>7.1</td>\n",
       "      <td>12.58</td>\n",
       "      <td>9</td>\n",
       "      <td>1.0</td>\n",
       "      <td>3</td>\n",
       "      <td>F,X,M</td>\n",
       "      <td>4</td>\n",
       "      <td>3.58</td>\n",
       "      <td>2.86667</td>\n",
       "      <td>134</td>\n",
       "      <td>1</td>\n",
       "    </tr>\n",
       "    <tr>\n",
       "      <th>17-1</th>\n",
       "      <td>UNITED STATES</td>\n",
       "      <td>NaN</td>\n",
       "      <td>NaN</td>\n",
       "      <td>JAPAN</td>\n",
       "      <td>Shipping for Allies</td>\n",
       "      <td>1</td>\n",
       "      <td>1</td>\n",
       "      <td>5</td>\n",
       "      <td>1917</td>\n",
       "      <td>1918</td>\n",
       "      <td>2</td>\n",
       "      <td>2</td>\n",
       "      <td>4</td>\n",
       "      <td>--</td>\n",
       "      <td>1</td>\n",
       "      <td>--</td>\n",
       "      <td>--</td>\n",
       "      <td>0</td>\n",
       "      <td>0</td>\n",
       "      <td>1</td>\n",
       "      <td>2</td>\n",
       "      <td>5</td>\n",
       "      <td>1</td>\n",
       "      <td>2</td>\n",
       "      <td>0</td>\n",
       "      <td>0</td>\n",
       "      <td>23.0</td>\n",
       "      <td>0.8</td>\n",
       "      <td>0.44</td>\n",
       "      <td>20.5</td>\n",
       "      <td>13.0</td>\n",
       "      <td>3</td>\n",
       "      <td>X</td>\n",
       "      <td>2</td>\n",
       "      <td>5.40</td>\n",
       "      <td>25.6</td>\n",
       "      <td>158</td>\n",
       "      <td>1</td>\n",
       "    </tr>\n",
       "    <tr>\n",
       "      <th>18-1</th>\n",
       "      <td>UNITED KINGDOM</td>\n",
       "      <td>NaN</td>\n",
       "      <td>NaN</td>\n",
       "      <td>RUSSIA</td>\n",
       "      <td>Destabilize Bolsheviks</td>\n",
       "      <td>0</td>\n",
       "      <td>0</td>\n",
       "      <td>2</td>\n",
       "      <td>1918</td>\n",
       "      <td>1920</td>\n",
       "      <td>1</td>\n",
       "      <td>2</td>\n",
       "      <td>2</td>\n",
       "      <td>RQ</td>\n",
       "      <td>4</td>\n",
       "      <td>--</td>\n",
       "      <td>--</td>\n",
       "      <td>0</td>\n",
       "      <td>0</td>\n",
       "      <td>2</td>\n",
       "      <td>1</td>\n",
       "      <td>1</td>\n",
       "      <td>-1</td>\n",
       "      <td>2</td>\n",
       "      <td>0.1</td>\n",
       "      <td>0</td>\n",
       "      <td>446.0</td>\n",
       "      <td>4.1</td>\n",
       "      <td>2.49</td>\n",
       "      <td>18.5</td>\n",
       "      <td>1.0</td>\n",
       "      <td>1</td>\n",
       "      <td>F,X,M</td>\n",
       "      <td>3</td>\n",
       "      <td>NaN</td>\n",
       "      <td>n.a.</td>\n",
       "      <td>922</td>\n",
       "      <td>2</td>\n",
       "    </tr>\n",
       "    <tr>\n",
       "      <th>21-1</th>\n",
       "      <td>LEAGUE OF NATIONS</td>\n",
       "      <td>NaN</td>\n",
       "      <td>NaN</td>\n",
       "      <td>YUGOSLAVIA</td>\n",
       "      <td>Military disruption vs. Albania</td>\n",
       "      <td>0</td>\n",
       "      <td>0</td>\n",
       "      <td>3</td>\n",
       "      <td>1921</td>\n",
       "      <td>1921</td>\n",
       "      <td>4</td>\n",
       "      <td>4</td>\n",
       "      <td>16</td>\n",
       "      <td>--</td>\n",
       "      <td>4</td>\n",
       "      <td>--</td>\n",
       "      <td>--</td>\n",
       "      <td>1</td>\n",
       "      <td>1</td>\n",
       "      <td>1</td>\n",
       "      <td>2</td>\n",
       "      <td>3</td>\n",
       "      <td>0</td>\n",
       "      <td>2</td>\n",
       "      <td>0.4</td>\n",
       "      <td>0</td>\n",
       "      <td>0.0</td>\n",
       "      <td>0.0</td>\n",
       "      <td>0.00</td>\n",
       "      <td>26.5</td>\n",
       "      <td>37.0</td>\n",
       "      <td>2</td>\n",
       "      <td>--</td>\n",
       "      <td>2</td>\n",
       "      <td>-1.50</td>\n",
       "      <td>n.a.</td>\n",
       "      <td>188</td>\n",
       "      <td>2</td>\n",
       "    </tr>\n",
       "    <tr>\n",
       "      <th>25-1</th>\n",
       "      <td>LEAGUE OF NATIONS</td>\n",
       "      <td>NaN</td>\n",
       "      <td>NaN</td>\n",
       "      <td>GREECE</td>\n",
       "      <td>Withdraw from Bulgaria</td>\n",
       "      <td>0</td>\n",
       "      <td>0</td>\n",
       "      <td>3</td>\n",
       "      <td>1925</td>\n",
       "      <td>1925</td>\n",
       "      <td>4</td>\n",
       "      <td>4</td>\n",
       "      <td>16</td>\n",
       "      <td>--</td>\n",
       "      <td>4</td>\n",
       "      <td>--</td>\n",
       "      <td>--</td>\n",
       "      <td>1</td>\n",
       "      <td>1</td>\n",
       "      <td>1</td>\n",
       "      <td>2</td>\n",
       "      <td>0</td>\n",
       "      <td>-6</td>\n",
       "      <td>1</td>\n",
       "      <td>0.9</td>\n",
       "      <td>0</td>\n",
       "      <td>0.0</td>\n",
       "      <td>0.0</td>\n",
       "      <td>0.00</td>\n",
       "      <td>36</td>\n",
       "      <td>56.0</td>\n",
       "      <td>2</td>\n",
       "      <td>--</td>\n",
       "      <td>2</td>\n",
       "      <td>3.30</td>\n",
       "      <td>48.8</td>\n",
       "      <td>174</td>\n",
       "      <td>1</td>\n",
       "    </tr>\n",
       "  </tbody>\n",
       "</table>\n",
       "</div>"
      ],
      "text/plain": [
       "                   Sender1 Sender2 Sender3      Target                             Goal  US_case  US_unilateral_case  Goal_categ  First_year Last_year  Policy_result  Sanctions_contrib  Success_score Comp_policies  Int_coop Int_assistance Coop_int_org  Int_org_sender  Int_org_sender_&_target_members  Length_years  Prior_relations Regime_type Regime_type2 Regime_type3 Political_stability_prior Political_stability_during  Cost_to_target  Cost_to_target_%GNP  Cost_to_target_per_capita Trade_linkage  GNP_ratio  Health_&_stability Sanction_type  Cost_to_sender  GDP_growth%5years_average Inflation%3years_average Target_int_monetary_code  Country_group\n",
       "id_case                                                                                                                                                                                                                                                                                                                                                                                                                                                                                                                                                                                                                                                                      \n",
       "14-1        UNITED KINGDOM     NaN     NaN     GERMANY                 Military victory        0                   0           4        1914      1918              4                  3             12             R         4              A           --               0                                0             4                1           5            2            2                         0                          0           843.0                  7.1                      12.58             9        1.0                   3         F,X,M               4                       3.58                  2.86667                      134              1\n",
       "17-1         UNITED STATES     NaN     NaN       JAPAN              Shipping for Allies        1                   1           5        1917      1918              2                  2              4            --         1             --           --               0                                0             1                2           5            1            2                         0                          0            23.0                  0.8                       0.44          20.5       13.0                   3             X               2                       5.40                     25.6                      158              1\n",
       "18-1        UNITED KINGDOM     NaN     NaN      RUSSIA           Destabilize Bolsheviks        0                   0           2        1918      1920              1                  2              2            RQ         4             --           --               0                                0             2                1           1           -1            2                       0.1                          0           446.0                  4.1                       2.49          18.5        1.0                   1         F,X,M               3                        NaN                     n.a.                      922              2\n",
       "21-1     LEAGUE OF NATIONS     NaN     NaN  YUGOSLAVIA  Military disruption vs. Albania        0                   0           3        1921      1921              4                  4             16            --         4             --           --               1                                1             1                2           3            0            2                       0.4                          0             0.0                  0.0                       0.00          26.5       37.0                   2            --               2                      -1.50                     n.a.                      188              2\n",
       "25-1     LEAGUE OF NATIONS     NaN     NaN      GREECE           Withdraw from Bulgaria        0                   0           3        1925      1925              4                  4             16            --         4             --           --               1                                1             1                2           0           -6            1                       0.9                          0             0.0                  0.0                       0.00            36       56.0                   2            --               2                       3.30                     48.8                      174              1"
      ]
     },
     "execution_count": 115,
     "metadata": {},
     "output_type": "execute_result"
    }
   ],
   "source": [
    "df.head()"
   ]
  },
  {
   "cell_type": "markdown",
   "metadata": {},
   "source": [
    "### Variables Quantitatives et Qualitatives"
   ]
  },
  {
   "cell_type": "code",
   "execution_count": 116,
   "metadata": {},
   "outputs": [
    {
     "data": {
      "text/html": [
       "<table style=\"display:inline\" border=\"1\" class=\"dataframe\">\n",
       "  <thead>\n",
       "    <tr style=\"text-align: right;\">\n",
       "      <th></th>\n",
       "      <th>Numeric_var</th>\n",
       "    </tr>\n",
       "  </thead>\n",
       "  <tbody>\n",
       "    <tr>\n",
       "      <th>0</th>\n",
       "      <td>US_case</td>\n",
       "    </tr>\n",
       "    <tr>\n",
       "      <th>1</th>\n",
       "      <td>US_unilateral_case</td>\n",
       "    </tr>\n",
       "    <tr>\n",
       "      <th>2</th>\n",
       "      <td>Goal_categ</td>\n",
       "    </tr>\n",
       "    <tr>\n",
       "      <th>3</th>\n",
       "      <td>First_year</td>\n",
       "    </tr>\n",
       "    <tr>\n",
       "      <th>4</th>\n",
       "      <td>Policy_result</td>\n",
       "    </tr>\n",
       "    <tr>\n",
       "      <th>5</th>\n",
       "      <td>Sanctions_contrib</td>\n",
       "    </tr>\n",
       "    <tr>\n",
       "      <th>6</th>\n",
       "      <td>Success_score</td>\n",
       "    </tr>\n",
       "    <tr>\n",
       "      <th>7</th>\n",
       "      <td>Int_coop</td>\n",
       "    </tr>\n",
       "    <tr>\n",
       "      <th>8</th>\n",
       "      <td>Int_org_sender</td>\n",
       "    </tr>\n",
       "    <tr>\n",
       "      <th>9</th>\n",
       "      <td>Int_org_sender_&amp;_target_members</td>\n",
       "    </tr>\n",
       "    <tr>\n",
       "      <th>10</th>\n",
       "      <td>Length_years</td>\n",
       "    </tr>\n",
       "    <tr>\n",
       "      <th>11</th>\n",
       "      <td>Prior_relations</td>\n",
       "    </tr>\n",
       "    <tr>\n",
       "      <th>12</th>\n",
       "      <td>Cost_to_target</td>\n",
       "    </tr>\n",
       "    <tr>\n",
       "      <th>13</th>\n",
       "      <td>Cost_to_target_%GNP</td>\n",
       "    </tr>\n",
       "    <tr>\n",
       "      <th>14</th>\n",
       "      <td>Cost_to_target_per_capita</td>\n",
       "    </tr>\n",
       "    <tr>\n",
       "      <th>15</th>\n",
       "      <td>GNP_ratio</td>\n",
       "    </tr>\n",
       "    <tr>\n",
       "      <th>16</th>\n",
       "      <td>Health_&amp;_stability</td>\n",
       "    </tr>\n",
       "    <tr>\n",
       "      <th>17</th>\n",
       "      <td>Cost_to_sender</td>\n",
       "    </tr>\n",
       "    <tr>\n",
       "      <th>18</th>\n",
       "      <td>GDP_growth%5years_average</td>\n",
       "    </tr>\n",
       "    <tr>\n",
       "      <th>19</th>\n",
       "      <td>Country_group</td>\n",
       "    </tr>\n",
       "  </tbody>\n",
       "</table style=\"display:inline\"><table style=\"display:inline\" border=\"1\" class=\"dataframe\">\n",
       "  <thead>\n",
       "    <tr style=\"text-align: right;\">\n",
       "      <th></th>\n",
       "      <th>Categ_vars</th>\n",
       "    </tr>\n",
       "  </thead>\n",
       "  <tbody>\n",
       "    <tr>\n",
       "      <th>0</th>\n",
       "      <td>Sender1</td>\n",
       "    </tr>\n",
       "    <tr>\n",
       "      <th>1</th>\n",
       "      <td>Sender2</td>\n",
       "    </tr>\n",
       "    <tr>\n",
       "      <th>2</th>\n",
       "      <td>Sender3</td>\n",
       "    </tr>\n",
       "    <tr>\n",
       "      <th>3</th>\n",
       "      <td>Target</td>\n",
       "    </tr>\n",
       "    <tr>\n",
       "      <th>4</th>\n",
       "      <td>Goal</td>\n",
       "    </tr>\n",
       "    <tr>\n",
       "      <th>5</th>\n",
       "      <td>Last_year</td>\n",
       "    </tr>\n",
       "    <tr>\n",
       "      <th>6</th>\n",
       "      <td>Comp_policies</td>\n",
       "    </tr>\n",
       "    <tr>\n",
       "      <th>7</th>\n",
       "      <td>Int_assistance</td>\n",
       "    </tr>\n",
       "    <tr>\n",
       "      <th>8</th>\n",
       "      <td>Coop_int_org</td>\n",
       "    </tr>\n",
       "    <tr>\n",
       "      <th>9</th>\n",
       "      <td>Regime_type</td>\n",
       "    </tr>\n",
       "    <tr>\n",
       "      <th>10</th>\n",
       "      <td>Regime_type2</td>\n",
       "    </tr>\n",
       "    <tr>\n",
       "      <th>11</th>\n",
       "      <td>Regime_type3</td>\n",
       "    </tr>\n",
       "    <tr>\n",
       "      <th>12</th>\n",
       "      <td>Political_stability_prior</td>\n",
       "    </tr>\n",
       "    <tr>\n",
       "      <th>13</th>\n",
       "      <td>Political_stability_during</td>\n",
       "    </tr>\n",
       "    <tr>\n",
       "      <th>14</th>\n",
       "      <td>Trade_linkage</td>\n",
       "    </tr>\n",
       "    <tr>\n",
       "      <th>15</th>\n",
       "      <td>Sanction_type</td>\n",
       "    </tr>\n",
       "    <tr>\n",
       "      <th>16</th>\n",
       "      <td>Inflation%3years_average</td>\n",
       "    </tr>\n",
       "    <tr>\n",
       "      <th>17</th>\n",
       "      <td>Target_int_monetary_code</td>\n",
       "    </tr>\n",
       "  </tbody>\n",
       "</table style=\"display:inline\">"
      ]
     },
     "metadata": {},
     "output_type": "display_data"
    }
   ],
   "source": [
    "# display side by side\n",
    "def display_side_by_side(*args):\n",
    "    html_str=''\n",
    "    for df in args:\n",
    "        html_str+=df.to_html()\n",
    "    display_html(html_str.replace('table','table style=\"display:inline\"'),raw=True)\n",
    "\n",
    "# display categoric & quantiv vars\n",
    "df_categ = df.select_dtypes(include=['object']).columns\n",
    "df_quant = df.select_dtypes(include=['int','float64']).columns\n",
    "quant = pd.DataFrame.from_dict({'Numeric_var': df_quant})\n",
    "categ = pd.DataFrame.from_dict({'Categ_vars': df_categ})\n",
    "display_side_by_side(quant,categ)"
   ]
  },
  {
   "cell_type": "markdown",
   "metadata": {},
   "source": [
    "### Describe Numeric Variables"
   ]
  },
  {
   "cell_type": "code",
   "execution_count": 117,
   "metadata": {},
   "outputs": [
    {
     "data": {
      "text/html": [
       "<div>\n",
       "<style scoped>\n",
       "    .dataframe tbody tr th:only-of-type {\n",
       "        vertical-align: middle;\n",
       "    }\n",
       "\n",
       "    .dataframe tbody tr th {\n",
       "        vertical-align: top;\n",
       "    }\n",
       "\n",
       "    .dataframe thead th {\n",
       "        text-align: right;\n",
       "    }\n",
       "</style>\n",
       "<table border=\"1\" class=\"dataframe\">\n",
       "  <thead>\n",
       "    <tr style=\"text-align: right;\">\n",
       "      <th></th>\n",
       "      <th>US_case</th>\n",
       "      <th>US_unilateral_case</th>\n",
       "      <th>Goal_categ</th>\n",
       "      <th>First_year</th>\n",
       "      <th>Policy_result</th>\n",
       "      <th>Sanctions_contrib</th>\n",
       "      <th>Success_score</th>\n",
       "      <th>Int_coop</th>\n",
       "      <th>Int_org_sender</th>\n",
       "      <th>Int_org_sender_&amp;_target_members</th>\n",
       "      <th>Length_years</th>\n",
       "      <th>Prior_relations</th>\n",
       "      <th>Cost_to_target</th>\n",
       "      <th>Cost_to_target_%GNP</th>\n",
       "      <th>Cost_to_target_per_capita</th>\n",
       "      <th>GNP_ratio</th>\n",
       "      <th>Health_&amp;_stability</th>\n",
       "      <th>Cost_to_sender</th>\n",
       "      <th>GDP_growth%5years_average</th>\n",
       "      <th>Country_group</th>\n",
       "    </tr>\n",
       "  </thead>\n",
       "  <tbody>\n",
       "    <tr>\n",
       "      <th>count</th>\n",
       "      <td>204.000000</td>\n",
       "      <td>204.000000</td>\n",
       "      <td>204.000000</td>\n",
       "      <td>204.000000</td>\n",
       "      <td>204.000000</td>\n",
       "      <td>204.000000</td>\n",
       "      <td>204.000000</td>\n",
       "      <td>204.000000</td>\n",
       "      <td>204.000000</td>\n",
       "      <td>204.000000</td>\n",
       "      <td>204.000000</td>\n",
       "      <td>204.000000</td>\n",
       "      <td>204.000000</td>\n",
       "      <td>204.000000</td>\n",
       "      <td>204.000000</td>\n",
       "      <td>204.000000</td>\n",
       "      <td>204.000000</td>\n",
       "      <td>204.000000</td>\n",
       "      <td>186.000000</td>\n",
       "      <td>204.000000</td>\n",
       "    </tr>\n",
       "    <tr>\n",
       "      <th>mean</th>\n",
       "      <td>0.686275</td>\n",
       "      <td>0.348039</td>\n",
       "      <td>2.651961</td>\n",
       "      <td>1975.279412</td>\n",
       "      <td>2.642157</td>\n",
       "      <td>2.446078</td>\n",
       "      <td>6.926471</td>\n",
       "      <td>2.093137</td>\n",
       "      <td>0.254902</td>\n",
       "      <td>0.220588</td>\n",
       "      <td>7.053922</td>\n",
       "      <td>2.098039</td>\n",
       "      <td>457.345015</td>\n",
       "      <td>2.671495</td>\n",
       "      <td>30.659529</td>\n",
       "      <td>1910.267549</td>\n",
       "      <td>1.995098</td>\n",
       "      <td>1.941176</td>\n",
       "      <td>3.184562</td>\n",
       "      <td>3.495098</td>\n",
       "    </tr>\n",
       "    <tr>\n",
       "      <th>std</th>\n",
       "      <td>0.465148</td>\n",
       "      <td>0.477520</td>\n",
       "      <td>1.383024</td>\n",
       "      <td>19.239619</td>\n",
       "      <td>1.120515</td>\n",
       "      <td>0.757253</td>\n",
       "      <td>4.171152</td>\n",
       "      <td>1.085576</td>\n",
       "      <td>0.436878</td>\n",
       "      <td>0.415663</td>\n",
       "      <td>9.626627</td>\n",
       "      <td>0.749513</td>\n",
       "      <td>2045.643232</td>\n",
       "      <td>6.578428</td>\n",
       "      <td>118.860966</td>\n",
       "      <td>6811.603934</td>\n",
       "      <td>0.752648</td>\n",
       "      <td>0.804220</td>\n",
       "      <td>4.660725</td>\n",
       "      <td>1.729197</td>\n",
       "    </tr>\n",
       "    <tr>\n",
       "      <th>min</th>\n",
       "      <td>0.000000</td>\n",
       "      <td>0.000000</td>\n",
       "      <td>1.000000</td>\n",
       "      <td>1914.000000</td>\n",
       "      <td>1.000000</td>\n",
       "      <td>1.000000</td>\n",
       "      <td>1.000000</td>\n",
       "      <td>1.000000</td>\n",
       "      <td>0.000000</td>\n",
       "      <td>0.000000</td>\n",
       "      <td>1.000000</td>\n",
       "      <td>1.000000</td>\n",
       "      <td>-182.000000</td>\n",
       "      <td>-6.300000</td>\n",
       "      <td>-6.450000</td>\n",
       "      <td>0.040000</td>\n",
       "      <td>1.000000</td>\n",
       "      <td>1.000000</td>\n",
       "      <td>-18.980000</td>\n",
       "      <td>1.000000</td>\n",
       "    </tr>\n",
       "    <tr>\n",
       "      <th>25%</th>\n",
       "      <td>0.000000</td>\n",
       "      <td>0.000000</td>\n",
       "      <td>2.000000</td>\n",
       "      <td>1963.000000</td>\n",
       "      <td>2.000000</td>\n",
       "      <td>2.000000</td>\n",
       "      <td>4.000000</td>\n",
       "      <td>1.000000</td>\n",
       "      <td>0.000000</td>\n",
       "      <td>0.000000</td>\n",
       "      <td>1.000000</td>\n",
       "      <td>2.000000</td>\n",
       "      <td>9.937500</td>\n",
       "      <td>0.040000</td>\n",
       "      <td>0.400000</td>\n",
       "      <td>13.750000</td>\n",
       "      <td>1.000000</td>\n",
       "      <td>1.000000</td>\n",
       "      <td>1.420000</td>\n",
       "      <td>2.000000</td>\n",
       "    </tr>\n",
       "    <tr>\n",
       "      <th>50%</th>\n",
       "      <td>1.000000</td>\n",
       "      <td>0.000000</td>\n",
       "      <td>2.000000</td>\n",
       "      <td>1979.000000</td>\n",
       "      <td>3.000000</td>\n",
       "      <td>2.000000</td>\n",
       "      <td>6.000000</td>\n",
       "      <td>2.000000</td>\n",
       "      <td>0.000000</td>\n",
       "      <td>0.000000</td>\n",
       "      <td>3.500000</td>\n",
       "      <td>2.000000</td>\n",
       "      <td>54.500000</td>\n",
       "      <td>0.700000</td>\n",
       "      <td>2.435000</td>\n",
       "      <td>104.500000</td>\n",
       "      <td>2.000000</td>\n",
       "      <td>2.000000</td>\n",
       "      <td>3.282222</td>\n",
       "      <td>3.000000</td>\n",
       "    </tr>\n",
       "    <tr>\n",
       "      <th>75%</th>\n",
       "      <td>1.000000</td>\n",
       "      <td>1.000000</td>\n",
       "      <td>4.000000</td>\n",
       "      <td>1991.000000</td>\n",
       "      <td>4.000000</td>\n",
       "      <td>3.000000</td>\n",
       "      <td>9.000000</td>\n",
       "      <td>3.000000</td>\n",
       "      <td>1.000000</td>\n",
       "      <td>0.000000</td>\n",
       "      <td>7.000000</td>\n",
       "      <td>3.000000</td>\n",
       "      <td>213.250000</td>\n",
       "      <td>2.600000</td>\n",
       "      <td>11.417500</td>\n",
       "      <td>577.725000</td>\n",
       "      <td>3.000000</td>\n",
       "      <td>2.000000</td>\n",
       "      <td>5.310000</td>\n",
       "      <td>5.000000</td>\n",
       "    </tr>\n",
       "    <tr>\n",
       "      <th>max</th>\n",
       "      <td>1.000000</td>\n",
       "      <td>1.000000</td>\n",
       "      <td>5.000000</td>\n",
       "      <td>2002.000000</td>\n",
       "      <td>4.000000</td>\n",
       "      <td>4.000000</td>\n",
       "      <td>16.000000</td>\n",
       "      <td>4.000000</td>\n",
       "      <td>1.000000</td>\n",
       "      <td>1.000000</td>\n",
       "      <td>60.000000</td>\n",
       "      <td>3.000000</td>\n",
       "      <td>18800.000000</td>\n",
       "      <td>54.000000</td>\n",
       "      <td>1093.000000</td>\n",
       "      <td>50869.000000</td>\n",
       "      <td>3.000000</td>\n",
       "      <td>4.000000</td>\n",
       "      <td>33.340000</td>\n",
       "      <td>6.000000</td>\n",
       "    </tr>\n",
       "  </tbody>\n",
       "</table>\n",
       "</div>"
      ],
      "text/plain": [
       "          US_case  US_unilateral_case  Goal_categ   First_year  Policy_result  Sanctions_contrib  Success_score    Int_coop  Int_org_sender  Int_org_sender_&_target_members  Length_years  Prior_relations  Cost_to_target  Cost_to_target_%GNP  Cost_to_target_per_capita     GNP_ratio  Health_&_stability  Cost_to_sender  GDP_growth%5years_average  Country_group\n",
       "count  204.000000          204.000000  204.000000   204.000000     204.000000         204.000000     204.000000  204.000000      204.000000                       204.000000    204.000000       204.000000      204.000000           204.000000                 204.000000    204.000000          204.000000      204.000000                 186.000000     204.000000\n",
       "mean     0.686275            0.348039    2.651961  1975.279412       2.642157           2.446078       6.926471    2.093137        0.254902                         0.220588      7.053922         2.098039      457.345015             2.671495                  30.659529   1910.267549            1.995098        1.941176                   3.184562       3.495098\n",
       "std      0.465148            0.477520    1.383024    19.239619       1.120515           0.757253       4.171152    1.085576        0.436878                         0.415663      9.626627         0.749513     2045.643232             6.578428                 118.860966   6811.603934            0.752648        0.804220                   4.660725       1.729197\n",
       "min      0.000000            0.000000    1.000000  1914.000000       1.000000           1.000000       1.000000    1.000000        0.000000                         0.000000      1.000000         1.000000     -182.000000            -6.300000                  -6.450000      0.040000            1.000000        1.000000                 -18.980000       1.000000\n",
       "25%      0.000000            0.000000    2.000000  1963.000000       2.000000           2.000000       4.000000    1.000000        0.000000                         0.000000      1.000000         2.000000        9.937500             0.040000                   0.400000     13.750000            1.000000        1.000000                   1.420000       2.000000\n",
       "50%      1.000000            0.000000    2.000000  1979.000000       3.000000           2.000000       6.000000    2.000000        0.000000                         0.000000      3.500000         2.000000       54.500000             0.700000                   2.435000    104.500000            2.000000        2.000000                   3.282222       3.000000\n",
       "75%      1.000000            1.000000    4.000000  1991.000000       4.000000           3.000000       9.000000    3.000000        1.000000                         0.000000      7.000000         3.000000      213.250000             2.600000                  11.417500    577.725000            3.000000        2.000000                   5.310000       5.000000\n",
       "max      1.000000            1.000000    5.000000  2002.000000       4.000000           4.000000      16.000000    4.000000        1.000000                         1.000000     60.000000         3.000000    18800.000000            54.000000                1093.000000  50869.000000            3.000000        4.000000                  33.340000       6.000000"
      ]
     },
     "execution_count": 117,
     "metadata": {},
     "output_type": "execute_result"
    }
   ],
   "source": [
    "# list quantiv variables\n",
    "df_quant = df.select_dtypes(include=['int','float64'])\n",
    "list(df.select_dtypes(include=['int','float64']).columns)\n",
    "df_quant.describe()"
   ]
  },
  {
   "cell_type": "markdown",
   "metadata": {
    "heading_collapsed": true
   },
   "source": [
    "## 4. Visualisations"
   ]
  },
  {
   "cell_type": "markdown",
   "metadata": {},
   "source": [
    "### Principaux auteurs de sanctions"
   ]
  },
  {
   "cell_type": "code",
   "execution_count": 118,
   "metadata": {
    "hidden": true,
    "hide_input": true
   },
   "outputs": [
    {
     "data": {
      "image/png": "[encoded data removed]",
      "text/plain": [
       "<Figure size 576x720 with 1 Axes>"
      ]
     },
     "metadata": {
      "needs_background": "light"
     },
     "output_type": "display_data"
    }
   ],
   "source": [
    "# Initialize the matplotlib figure\n",
    "f, ax = plt.subplots(figsize=(8, 10))\n",
    "\n",
    "# Plot \n",
    "sns.set_color_codes(\"muted\")\n",
    "sns.barplot(x=df['Sender1'].value_counts(), y=df['Sender1'].value_counts().index)\n",
    "\n",
    "# Add a legend and informative axis label\n",
    "ax.set(xlim=(0, 30), ylabel=\"\", xlabel=\"Quantités de sanctions\")\n",
    "sns.despine(left=True, bottom=True)"
   ]
  },
  {
   "cell_type": "markdown",
   "metadata": {
    "heading_collapsed": true
   },
   "source": [
    "### Principaux motifs de sanctions"
   ]
  },
  {
   "cell_type": "code",
   "execution_count": 119,
   "metadata": {
    "hidden": true
   },
   "outputs": [
    {
     "data": {
      "image/png": "[encoded data removed]",
      "text/plain": [
       "<Figure size 576x720 with 1 Axes>"
      ]
     },
     "metadata": {
      "needs_background": "light"
     },
     "output_type": "display_data"
    }
   ],
   "source": [
    "# Initialize matplotlib figure\n",
    "f, ax = plt.subplots(figsize=(8, 10))\n",
    "\n",
    "# Plot \n",
    "sns.set_color_codes(\"muted\")\n",
    "sns.barplot(x=df['Goal'].value_counts()[:30], y=df['Goal'].value_counts()[:30].index)\n",
    "\n",
    "# Add a legend and informative axis label\n",
    "ax.set(xlim=(0, 10), ylabel=\"\", xlabel=\"Occurrences de motifs de sanctions\")\n",
    "sns.despine(left=True, bottom=True)"
   ]
  },
  {
   "cell_type": "markdown",
   "metadata": {},
   "source": [
    "### Pays les plus impactés financièrement par les sanctions (Cost_to_target)"
   ]
  },
  {
   "cell_type": "code",
   "execution_count": 120,
   "metadata": {},
   "outputs": [
    {
     "data": {
      "image/png": "[encoded data removed]",
      "text/plain": [
       "<Figure size 432x576 with 1 Axes>"
      ]
     },
     "metadata": {
      "needs_background": "light"
     },
     "output_type": "display_data"
    }
   ],
   "source": [
    "df_costs = df[['Target', 'Cost_to_target']].groupby(['Target']).sum().sort_values(by='Cost_to_target', ascending=False)\n",
    "df_costs['Cost_to_target'].head()\n",
    "\n",
    "X = df_costs['Cost_to_target'].values #returns a numpy array\n",
    "scaler = preprocessing.MinMaxScaler(feature_range=(0, 10))\n",
    "df_costs['costs'] = scaler.fit_transform(X.reshape(-1,1))\n",
    "# df_costs[:5]  \n",
    "\n",
    "# Initialize the matplotlib figure\n",
    "f, ax = plt.subplots(figsize=(6, 8))\n",
    "\n",
    "# Plot \n",
    "sns.set_color_codes(\"muted\")\n",
    "sns.barplot(x=df_costs[:20].costs, y=df_costs[:20].index)\n",
    "\n",
    "# Add a legend and informative axis label\n",
    "ax.set(xlim=(0, 10), ylabel=\"\", xlabel=\"Couts des sanctions par pays (échelle de 0 à 10)\")\n",
    "sns.despine(left=True, bottom=True)"
   ]
  },
  {
   "cell_type": "markdown",
   "metadata": {},
   "source": [
    "### Pays les plus impactés financièrement par les sanctions (Cost_to_target_per_capita)"
   ]
  },
  {
   "cell_type": "code",
   "execution_count": 121,
   "metadata": {},
   "outputs": [
    {
     "data": {
      "image/png": "[encoded data removed]",
      "text/plain": [
       "<Figure size 720x576 with 1 Axes>"
      ]
     },
     "metadata": {
      "needs_background": "light"
     },
     "output_type": "display_data"
    }
   ],
   "source": [
    "df_costs_capita = df[['Target', 'Cost_to_target_per_capita']].groupby(['Target']).sum().sort_values(by='Cost_to_target_per_capita', ascending=False)\n",
    "# df_costs_capita[:20]  \n",
    "\n",
    "# Initialize the matplotlib figure\n",
    "f, ax = plt.subplots(figsize=(10, 8))\n",
    "\n",
    "# Plot \n",
    "sns.set_color_codes(\"muted\")\n",
    "sns.barplot(x=df_costs_capita[:20].Cost_to_target_per_capita, y=df_costs_capita[:20].index)\n",
    "\n",
    "# Add a legend and informative axis label\n",
    "ax.set(xlim=(0, 1500), ylabel=\"\", xlabel=\"Couts des sanctions par pays (Cost_to_target_per_capita)\")\n",
    "sns.despine(left=True, bottom=True)"
   ]
  },
  {
   "cell_type": "markdown",
   "metadata": {},
   "source": [
    "### Success score"
   ]
  },
  {
   "cell_type": "code",
   "execution_count": 122,
   "metadata": {},
   "outputs": [],
   "source": [
    "# df_success_score = df[['Success_score']].groupby(df.index).sum().sort_values(by='Success_score', ascending=False)\n",
    "# # df_costs_capita[:20]  \n",
    "\n",
    "# # Initialize the matplotlib figure\n",
    "# f, ax = plt.subplots(figsize=(10, 8))\n",
    "\n",
    "# # Plot \n",
    "# sns.set_color_codes(\"muted\")\n",
    "# sns.barplot(x=df_success_score[:20].Success_score, y=df_success_score[:20].index)\n",
    "\n",
    "# # Add a legend and informative axis label\n",
    "# ax.set(xlim=(0, 40), ylabel=\"\", xlabel=\"Couts des sanctions par pays (Cost_to_target_per_capita)\")\n",
    "# sns.despine(left=True, bottom=True)\n",
    "\n",
    "# # df_success_score.head()\n",
    "# # df[['Target', 'Success_score']].head()"
   ]
  },
  {
   "cell_type": "code",
   "execution_count": 123,
   "metadata": {},
   "outputs": [
    {
     "data": {
      "image/png": "[encoded data removed]",
      "text/plain": [
       "<Figure size 432x288 with 1 Axes>"
      ]
     },
     "metadata": {
      "needs_background": "light"
     },
     "output_type": "display_data"
    }
   ],
   "source": [
    "# Barplot\n",
    "df['Success_score'].value_counts(normalize=True).plot(kind='bar')\n",
    "plt.show()"
   ]
  },
  {
   "cell_type": "code",
   "execution_count": 124,
   "metadata": {},
   "outputs": [],
   "source": [
    "#df['Success_score'].value_counts(normalize=True).plot(kind='pie')"
   ]
  },
  {
   "cell_type": "code",
   "execution_count": 125,
   "metadata": {},
   "outputs": [
    {
     "data": {
      "text/html": [
       "<style  type=\"text/css\" >\n",
       "    #T_fd8b29a4_8adc_11ea_ad4e_acde48001122row0_col0 {\n",
       "            background-color:  #afa6ce;\n",
       "            color:  #000000;\n",
       "        }    #T_fd8b29a4_8adc_11ea_ad4e_acde48001122row0_col1 {\n",
       "            background-color:  #89b8a0;\n",
       "            color:  #000000;\n",
       "        }    #T_fd8b29a4_8adc_11ea_ad4e_acde48001122row0_col2 {\n",
       "            background-color:  #86b69d;\n",
       "            color:  #000000;\n",
       "        }    #T_fd8b29a4_8adc_11ea_ad4e_acde48001122row1_col0 {\n",
       "            background-color:  #93bea8;\n",
       "            color:  #000000;\n",
       "        }    #T_fd8b29a4_8adc_11ea_ad4e_acde48001122row1_col1 {\n",
       "            background-color:  #afa6ce;\n",
       "            color:  #000000;\n",
       "        }    #T_fd8b29a4_8adc_11ea_ad4e_acde48001122row1_col2 {\n",
       "            background-color:  #8fbba5;\n",
       "            color:  #000000;\n",
       "        }    #T_fd8b29a4_8adc_11ea_ad4e_acde48001122row2_col0 {\n",
       "            background-color:  #86b69d;\n",
       "            color:  #000000;\n",
       "        }    #T_fd8b29a4_8adc_11ea_ad4e_acde48001122row2_col1 {\n",
       "            background-color:  #86b69d;\n",
       "            color:  #000000;\n",
       "        }    #T_fd8b29a4_8adc_11ea_ad4e_acde48001122row2_col2 {\n",
       "            background-color:  #afa6ce;\n",
       "            color:  #000000;\n",
       "        }</style><table id=\"T_fd8b29a4_8adc_11ea_ad4e_acde48001122\" ><thead>    <tr>        <th class=\"blank level0\" ></th>        <th class=\"col_heading level0 col0\" >Success_score</th>        <th class=\"col_heading level0 col1\" >GDP_growth%5years_average</th>        <th class=\"col_heading level0 col2\" >Cost_to_sender</th>    </tr></thead><tbody>\n",
       "                <tr>\n",
       "                        <th id=\"T_fd8b29a4_8adc_11ea_ad4e_acde48001122level0_row0\" class=\"row_heading level0 row0\" >Success_score</th>\n",
       "                        <td id=\"T_fd8b29a4_8adc_11ea_ad4e_acde48001122row0_col0\" class=\"data row0 col0\" >1.00</td>\n",
       "                        <td id=\"T_fd8b29a4_8adc_11ea_ad4e_acde48001122row0_col1\" class=\"data row0 col1\" >-0.05</td>\n",
       "                        <td id=\"T_fd8b29a4_8adc_11ea_ad4e_acde48001122row0_col2\" class=\"data row0 col2\" >-0.12</td>\n",
       "            </tr>\n",
       "            <tr>\n",
       "                        <th id=\"T_fd8b29a4_8adc_11ea_ad4e_acde48001122level0_row1\" class=\"row_heading level0 row1\" >GDP_growth%5years_average</th>\n",
       "                        <td id=\"T_fd8b29a4_8adc_11ea_ad4e_acde48001122row1_col0\" class=\"data row1 col0\" >-0.05</td>\n",
       "                        <td id=\"T_fd8b29a4_8adc_11ea_ad4e_acde48001122row1_col1\" class=\"data row1 col1\" >1.00</td>\n",
       "                        <td id=\"T_fd8b29a4_8adc_11ea_ad4e_acde48001122row1_col2\" class=\"data row1 col2\" >-0.07</td>\n",
       "            </tr>\n",
       "            <tr>\n",
       "                        <th id=\"T_fd8b29a4_8adc_11ea_ad4e_acde48001122level0_row2\" class=\"row_heading level0 row2\" >Cost_to_sender</th>\n",
       "                        <td id=\"T_fd8b29a4_8adc_11ea_ad4e_acde48001122row2_col0\" class=\"data row2 col0\" >-0.12</td>\n",
       "                        <td id=\"T_fd8b29a4_8adc_11ea_ad4e_acde48001122row2_col1\" class=\"data row2 col1\" >-0.07</td>\n",
       "                        <td id=\"T_fd8b29a4_8adc_11ea_ad4e_acde48001122row2_col2\" class=\"data row2 col2\" >1.00</td>\n",
       "            </tr>\n",
       "    </tbody></table>"
      ],
      "text/plain": [
       "<pandas.io.formats.style.Styler at 0x1093039d0>"
      ]
     },
     "execution_count": 125,
     "metadata": {},
     "output_type": "execute_result"
    }
   ],
   "source": [
    "df_correlation = df[[\"Success_score\", \"Inflation%3years_average\", \"Target_int_monetary_code\",\n",
    "                            \"GDP_growth%5years_average\",\"Cost_to_sender\",\"Sanction_type\"]]\n",
    "corr = df_correlation.corr()\n",
    "# cmap = sns.diverging_palette(220, 20, sep=20, as_cmap=True)\n",
    "cmap = sns.diverging_palette(150, 275, s=40, l=70, n=9, as_cmap=True)\n",
    "corr.style.background_gradient(cmap=cmap).set_precision(2)"
   ]
  },
  {
   "cell_type": "code",
   "execution_count": 126,
   "metadata": {},
   "outputs": [
    {
     "data": {
      "text/html": [
       "<style  type=\"text/css\" >\n",
       "    #T_fde7fb66_8adc_11ea_ad4e_acde48001122row0_col0 {\n",
       "            background-color:  #afa6ce;\n",
       "            color:  #000000;\n",
       "        }    #T_fde7fb66_8adc_11ea_ad4e_acde48001122row0_col1 {\n",
       "            background-color:  #86b69d;\n",
       "            color:  #000000;\n",
       "        }    #T_fde7fb66_8adc_11ea_ad4e_acde48001122row0_col2 {\n",
       "            background-color:  #86b69d;\n",
       "            color:  #000000;\n",
       "        }    #T_fde7fb66_8adc_11ea_ad4e_acde48001122row0_col3 {\n",
       "            background-color:  #86b69d;\n",
       "            color:  #000000;\n",
       "        }    #T_fde7fb66_8adc_11ea_ad4e_acde48001122row0_col4 {\n",
       "            background-color:  #8ebba4;\n",
       "            color:  #000000;\n",
       "        }    #T_fde7fb66_8adc_11ea_ad4e_acde48001122row1_col0 {\n",
       "            background-color:  #86b69d;\n",
       "            color:  #000000;\n",
       "        }    #T_fde7fb66_8adc_11ea_ad4e_acde48001122row1_col1 {\n",
       "            background-color:  #afa6ce;\n",
       "            color:  #000000;\n",
       "        }    #T_fde7fb66_8adc_11ea_ad4e_acde48001122row1_col2 {\n",
       "            background-color:  #cbc4df;\n",
       "            color:  #000000;\n",
       "        }    #T_fde7fb66_8adc_11ea_ad4e_acde48001122row1_col3 {\n",
       "            background-color:  #b4abd1;\n",
       "            color:  #000000;\n",
       "        }    #T_fde7fb66_8adc_11ea_ad4e_acde48001122row1_col4 {\n",
       "            background-color:  #86b69d;\n",
       "            color:  #000000;\n",
       "        }    #T_fde7fb66_8adc_11ea_ad4e_acde48001122row2_col0 {\n",
       "            background-color:  #99c1ad;\n",
       "            color:  #000000;\n",
       "        }    #T_fde7fb66_8adc_11ea_ad4e_acde48001122row2_col1 {\n",
       "            background-color:  #c8c1dd;\n",
       "            color:  #000000;\n",
       "        }    #T_fde7fb66_8adc_11ea_ad4e_acde48001122row2_col2 {\n",
       "            background-color:  #afa6ce;\n",
       "            color:  #000000;\n",
       "        }    #T_fde7fb66_8adc_11ea_ad4e_acde48001122row2_col3 {\n",
       "            background-color:  #c5bddb;\n",
       "            color:  #000000;\n",
       "        }    #T_fde7fb66_8adc_11ea_ad4e_acde48001122row2_col4 {\n",
       "            background-color:  #aecebe;\n",
       "            color:  #000000;\n",
       "        }    #T_fde7fb66_8adc_11ea_ad4e_acde48001122row3_col0 {\n",
       "            background-color:  #8bb9a1;\n",
       "            color:  #000000;\n",
       "        }    #T_fde7fb66_8adc_11ea_ad4e_acde48001122row3_col1 {\n",
       "            background-color:  #b4abd1;\n",
       "            color:  #000000;\n",
       "        }    #T_fde7fb66_8adc_11ea_ad4e_acde48001122row3_col2 {\n",
       "            background-color:  #c6bfdc;\n",
       "            color:  #000000;\n",
       "        }    #T_fde7fb66_8adc_11ea_ad4e_acde48001122row3_col3 {\n",
       "            background-color:  #afa6ce;\n",
       "            color:  #000000;\n",
       "        }    #T_fde7fb66_8adc_11ea_ad4e_acde48001122row3_col4 {\n",
       "            background-color:  #8bb9a1;\n",
       "            color:  #000000;\n",
       "        }    #T_fde7fb66_8adc_11ea_ad4e_acde48001122row4_col0 {\n",
       "            background-color:  #91bca6;\n",
       "            color:  #000000;\n",
       "        }    #T_fde7fb66_8adc_11ea_ad4e_acde48001122row4_col1 {\n",
       "            background-color:  #88b79f;\n",
       "            color:  #000000;\n",
       "        }    #T_fde7fb66_8adc_11ea_ad4e_acde48001122row4_col2 {\n",
       "            background-color:  #9ec5b1;\n",
       "            color:  #000000;\n",
       "        }    #T_fde7fb66_8adc_11ea_ad4e_acde48001122row4_col3 {\n",
       "            background-color:  #89b8a0;\n",
       "            color:  #000000;\n",
       "        }    #T_fde7fb66_8adc_11ea_ad4e_acde48001122row4_col4 {\n",
       "            background-color:  #afa6ce;\n",
       "            color:  #000000;\n",
       "        }</style><table id=\"T_fde7fb66_8adc_11ea_ad4e_acde48001122\" ><thead>    <tr>        <th class=\"blank level0\" ></th>        <th class=\"col_heading level0 col0\" >Success_score</th>        <th class=\"col_heading level0 col1\" >Cost_to_target</th>        <th class=\"col_heading level0 col2\" >Cost_to_target_%GNP</th>        <th class=\"col_heading level0 col3\" >Cost_to_target_per_capita</th>        <th class=\"col_heading level0 col4\" >GNP_ratio</th>    </tr></thead><tbody>\n",
       "                <tr>\n",
       "                        <th id=\"T_fde7fb66_8adc_11ea_ad4e_acde48001122level0_row0\" class=\"row_heading level0 row0\" >Success_score</th>\n",
       "                        <td id=\"T_fde7fb66_8adc_11ea_ad4e_acde48001122row0_col0\" class=\"data row0 col0\" >1.00</td>\n",
       "                        <td id=\"T_fde7fb66_8adc_11ea_ad4e_acde48001122row0_col1\" class=\"data row0 col1\" >-0.07</td>\n",
       "                        <td id=\"T_fde7fb66_8adc_11ea_ad4e_acde48001122row0_col2\" class=\"data row0 col2\" >0.03</td>\n",
       "                        <td id=\"T_fde7fb66_8adc_11ea_ad4e_acde48001122row0_col3\" class=\"data row0 col3\" >-0.04</td>\n",
       "                        <td id=\"T_fde7fb66_8adc_11ea_ad4e_acde48001122row0_col4\" class=\"data row0 col4\" >-0.01</td>\n",
       "            </tr>\n",
       "            <tr>\n",
       "                        <th id=\"T_fde7fb66_8adc_11ea_ad4e_acde48001122level0_row1\" class=\"row_heading level0 row1\" >Cost_to_target</th>\n",
       "                        <td id=\"T_fde7fb66_8adc_11ea_ad4e_acde48001122row1_col0\" class=\"data row1 col0\" >-0.07</td>\n",
       "                        <td id=\"T_fde7fb66_8adc_11ea_ad4e_acde48001122row1_col1\" class=\"data row1 col1\" >1.00</td>\n",
       "                        <td id=\"T_fde7fb66_8adc_11ea_ad4e_acde48001122row1_col2\" class=\"data row1 col2\" >0.81</td>\n",
       "                        <td id=\"T_fde7fb66_8adc_11ea_ad4e_acde48001122row1_col3\" class=\"data row1 col3\" >0.96</td>\n",
       "                        <td id=\"T_fde7fb66_8adc_11ea_ad4e_acde48001122row1_col4\" class=\"data row1 col4\" >-0.05</td>\n",
       "            </tr>\n",
       "            <tr>\n",
       "                        <th id=\"T_fde7fb66_8adc_11ea_ad4e_acde48001122level0_row2\" class=\"row_heading level0 row2\" >Cost_to_target_%GNP</th>\n",
       "                        <td id=\"T_fde7fb66_8adc_11ea_ad4e_acde48001122row2_col0\" class=\"data row2 col0\" >0.03</td>\n",
       "                        <td id=\"T_fde7fb66_8adc_11ea_ad4e_acde48001122row2_col1\" class=\"data row2 col1\" >0.81</td>\n",
       "                        <td id=\"T_fde7fb66_8adc_11ea_ad4e_acde48001122row2_col2\" class=\"data row2 col2\" >1.00</td>\n",
       "                        <td id=\"T_fde7fb66_8adc_11ea_ad4e_acde48001122row2_col3\" class=\"data row2 col3\" >0.83</td>\n",
       "                        <td id=\"T_fde7fb66_8adc_11ea_ad4e_acde48001122row2_col4\" class=\"data row2 col4\" >0.14</td>\n",
       "            </tr>\n",
       "            <tr>\n",
       "                        <th id=\"T_fde7fb66_8adc_11ea_ad4e_acde48001122level0_row3\" class=\"row_heading level0 row3\" >Cost_to_target_per_capita</th>\n",
       "                        <td id=\"T_fde7fb66_8adc_11ea_ad4e_acde48001122row3_col0\" class=\"data row3 col0\" >-0.04</td>\n",
       "                        <td id=\"T_fde7fb66_8adc_11ea_ad4e_acde48001122row3_col1\" class=\"data row3 col1\" >0.96</td>\n",
       "                        <td id=\"T_fde7fb66_8adc_11ea_ad4e_acde48001122row3_col2\" class=\"data row3 col2\" >0.83</td>\n",
       "                        <td id=\"T_fde7fb66_8adc_11ea_ad4e_acde48001122row3_col3\" class=\"data row3 col3\" >1.00</td>\n",
       "                        <td id=\"T_fde7fb66_8adc_11ea_ad4e_acde48001122row3_col4\" class=\"data row3 col4\" >-0.02</td>\n",
       "            </tr>\n",
       "            <tr>\n",
       "                        <th id=\"T_fde7fb66_8adc_11ea_ad4e_acde48001122level0_row4\" class=\"row_heading level0 row4\" >GNP_ratio</th>\n",
       "                        <td id=\"T_fde7fb66_8adc_11ea_ad4e_acde48001122row4_col0\" class=\"data row4 col0\" >-0.01</td>\n",
       "                        <td id=\"T_fde7fb66_8adc_11ea_ad4e_acde48001122row4_col1\" class=\"data row4 col1\" >-0.05</td>\n",
       "                        <td id=\"T_fde7fb66_8adc_11ea_ad4e_acde48001122row4_col2\" class=\"data row4 col2\" >0.14</td>\n",
       "                        <td id=\"T_fde7fb66_8adc_11ea_ad4e_acde48001122row4_col3\" class=\"data row4 col3\" >-0.02</td>\n",
       "                        <td id=\"T_fde7fb66_8adc_11ea_ad4e_acde48001122row4_col4\" class=\"data row4 col4\" >1.00</td>\n",
       "            </tr>\n",
       "    </tbody></table>"
      ],
      "text/plain": [
       "<pandas.io.formats.style.Styler at 0x1a211e7410>"
      ]
     },
     "execution_count": 126,
     "metadata": {},
     "output_type": "execute_result"
    }
   ],
   "source": [
    "df_correlation = df[[\"Success_score\",\"Cost_to_target\",\"Cost_to_target_%GNP\",\"Cost_to_target_per_capita\",\n",
    "                             \"Trade_linkage\",\"GNP_ratio\",\"Regime_type2\"]]\n",
    "cmap = sns.diverging_palette(150, 275, s=40, l=70, n=9, as_cmap=True)\n",
    "corr = df_correlation.corr()\n",
    "# corr.style.background_gradient(cmap='coolwarm').set_precision(2)\n",
    "corr.style.background_gradient(cmap=cmap).set_precision(2)"
   ]
  },
  {
   "cell_type": "markdown",
   "metadata": {},
   "source": [
    "## Partie modélisation\n"
   ]
  },
  {
   "cell_type": "code",
   "execution_count": 127,
   "metadata": {},
   "outputs": [
    {
     "data": {
      "text/html": [
       "<div>\n",
       "<style scoped>\n",
       "    .dataframe tbody tr th:only-of-type {\n",
       "        vertical-align: middle;\n",
       "    }\n",
       "\n",
       "    .dataframe tbody tr th {\n",
       "        vertical-align: top;\n",
       "    }\n",
       "\n",
       "    .dataframe thead th {\n",
       "        text-align: right;\n",
       "    }\n",
       "</style>\n",
       "<table border=\"1\" class=\"dataframe\">\n",
       "  <thead>\n",
       "    <tr style=\"text-align: right;\">\n",
       "      <th></th>\n",
       "      <th>Sender1</th>\n",
       "      <th>Target</th>\n",
       "      <th>Goal</th>\n",
       "      <th>US_case</th>\n",
       "      <th>US_unilateral_case</th>\n",
       "      <th>Goal_categ</th>\n",
       "      <th>First_year</th>\n",
       "      <th>Last_year</th>\n",
       "      <th>Comp_policies</th>\n",
       "      <th>Int_coop</th>\n",
       "      <th>Int_assistance</th>\n",
       "      <th>Coop_int_org</th>\n",
       "      <th>Int_org_sender</th>\n",
       "      <th>Int_org_sender_&amp;_target_members</th>\n",
       "      <th>Length_years</th>\n",
       "      <th>Prior_relations</th>\n",
       "      <th>Regime_type</th>\n",
       "      <th>Regime_type2</th>\n",
       "      <th>Regime_type3</th>\n",
       "      <th>Political_stability_prior</th>\n",
       "      <th>Political_stability_during</th>\n",
       "      <th>Cost_to_target</th>\n",
       "      <th>Cost_to_target_%GNP</th>\n",
       "      <th>Cost_to_target_per_capita</th>\n",
       "      <th>Trade_linkage</th>\n",
       "      <th>GNP_ratio</th>\n",
       "      <th>Health_&amp;_stability</th>\n",
       "      <th>Sanction_type</th>\n",
       "      <th>Cost_to_sender</th>\n",
       "      <th>GDP_growth%5years_average</th>\n",
       "      <th>Inflation%3years_average</th>\n",
       "      <th>Target_int_monetary_code</th>\n",
       "      <th>Country_group</th>\n",
       "      <th>Success score</th>\n",
       "    </tr>\n",
       "    <tr>\n",
       "      <th>id_case</th>\n",
       "      <th></th>\n",
       "      <th></th>\n",
       "      <th></th>\n",
       "      <th></th>\n",
       "      <th></th>\n",
       "      <th></th>\n",
       "      <th></th>\n",
       "      <th></th>\n",
       "      <th></th>\n",
       "      <th></th>\n",
       "      <th></th>\n",
       "      <th></th>\n",
       "      <th></th>\n",
       "      <th></th>\n",
       "      <th></th>\n",
       "      <th></th>\n",
       "      <th></th>\n",
       "      <th></th>\n",
       "      <th></th>\n",
       "      <th></th>\n",
       "      <th></th>\n",
       "      <th></th>\n",
       "      <th></th>\n",
       "      <th></th>\n",
       "      <th></th>\n",
       "      <th></th>\n",
       "      <th></th>\n",
       "      <th></th>\n",
       "      <th></th>\n",
       "      <th></th>\n",
       "      <th></th>\n",
       "      <th></th>\n",
       "      <th></th>\n",
       "      <th></th>\n",
       "    </tr>\n",
       "  </thead>\n",
       "  <tbody>\n",
       "    <tr>\n",
       "      <th>14-1</th>\n",
       "      <td>UNITED KINGDOM</td>\n",
       "      <td>GERMANY</td>\n",
       "      <td>Military victory</td>\n",
       "      <td>0</td>\n",
       "      <td>0</td>\n",
       "      <td>4</td>\n",
       "      <td>1914</td>\n",
       "      <td>1918</td>\n",
       "      <td>R</td>\n",
       "      <td>4</td>\n",
       "      <td>A</td>\n",
       "      <td>--</td>\n",
       "      <td>0</td>\n",
       "      <td>0</td>\n",
       "      <td>4</td>\n",
       "      <td>1</td>\n",
       "      <td>5</td>\n",
       "      <td>2</td>\n",
       "      <td>2</td>\n",
       "      <td>0</td>\n",
       "      <td>0</td>\n",
       "      <td>843.0</td>\n",
       "      <td>7.1</td>\n",
       "      <td>12.58</td>\n",
       "      <td>9</td>\n",
       "      <td>1.0</td>\n",
       "      <td>3</td>\n",
       "      <td>F,X,M</td>\n",
       "      <td>4</td>\n",
       "      <td>3.58</td>\n",
       "      <td>2.86667</td>\n",
       "      <td>134</td>\n",
       "      <td>1</td>\n",
       "      <td>12</td>\n",
       "    </tr>\n",
       "    <tr>\n",
       "      <th>17-1</th>\n",
       "      <td>UNITED STATES</td>\n",
       "      <td>JAPAN</td>\n",
       "      <td>Shipping for Allies</td>\n",
       "      <td>1</td>\n",
       "      <td>1</td>\n",
       "      <td>5</td>\n",
       "      <td>1917</td>\n",
       "      <td>1918</td>\n",
       "      <td>R</td>\n",
       "      <td>1</td>\n",
       "      <td>A</td>\n",
       "      <td>--</td>\n",
       "      <td>0</td>\n",
       "      <td>0</td>\n",
       "      <td>1</td>\n",
       "      <td>2</td>\n",
       "      <td>5</td>\n",
       "      <td>1</td>\n",
       "      <td>2</td>\n",
       "      <td>0</td>\n",
       "      <td>0</td>\n",
       "      <td>23.0</td>\n",
       "      <td>0.8</td>\n",
       "      <td>0.44</td>\n",
       "      <td>20.5</td>\n",
       "      <td>13.0</td>\n",
       "      <td>3</td>\n",
       "      <td>X</td>\n",
       "      <td>2</td>\n",
       "      <td>5.40</td>\n",
       "      <td>25.6</td>\n",
       "      <td>158</td>\n",
       "      <td>1</td>\n",
       "      <td>4</td>\n",
       "    </tr>\n",
       "    <tr>\n",
       "      <th>18-1</th>\n",
       "      <td>UNITED KINGDOM</td>\n",
       "      <td>RUSSIA</td>\n",
       "      <td>Destabilize Bolsheviks</td>\n",
       "      <td>0</td>\n",
       "      <td>0</td>\n",
       "      <td>2</td>\n",
       "      <td>1918</td>\n",
       "      <td>1920</td>\n",
       "      <td>RQ</td>\n",
       "      <td>4</td>\n",
       "      <td>A</td>\n",
       "      <td>--</td>\n",
       "      <td>0</td>\n",
       "      <td>0</td>\n",
       "      <td>2</td>\n",
       "      <td>1</td>\n",
       "      <td>1</td>\n",
       "      <td>-1</td>\n",
       "      <td>2</td>\n",
       "      <td>0.1</td>\n",
       "      <td>0</td>\n",
       "      <td>446.0</td>\n",
       "      <td>4.1</td>\n",
       "      <td>2.49</td>\n",
       "      <td>18.5</td>\n",
       "      <td>1.0</td>\n",
       "      <td>1</td>\n",
       "      <td>F,X,M</td>\n",
       "      <td>3</td>\n",
       "      <td>NaN</td>\n",
       "      <td>25.6</td>\n",
       "      <td>922</td>\n",
       "      <td>2</td>\n",
       "      <td>2</td>\n",
       "    </tr>\n",
       "    <tr>\n",
       "      <th>21-1</th>\n",
       "      <td>LEAGUE OF NATIONS</td>\n",
       "      <td>YUGOSLAVIA</td>\n",
       "      <td>Military disruption vs. Albania</td>\n",
       "      <td>0</td>\n",
       "      <td>0</td>\n",
       "      <td>3</td>\n",
       "      <td>1921</td>\n",
       "      <td>1921</td>\n",
       "      <td>RQ</td>\n",
       "      <td>4</td>\n",
       "      <td>A</td>\n",
       "      <td>--</td>\n",
       "      <td>1</td>\n",
       "      <td>1</td>\n",
       "      <td>1</td>\n",
       "      <td>2</td>\n",
       "      <td>3</td>\n",
       "      <td>0</td>\n",
       "      <td>2</td>\n",
       "      <td>0.4</td>\n",
       "      <td>0</td>\n",
       "      <td>0.0</td>\n",
       "      <td>0.0</td>\n",
       "      <td>0.00</td>\n",
       "      <td>26.5</td>\n",
       "      <td>37.0</td>\n",
       "      <td>2</td>\n",
       "      <td>--</td>\n",
       "      <td>2</td>\n",
       "      <td>-1.50</td>\n",
       "      <td>25.6</td>\n",
       "      <td>188</td>\n",
       "      <td>2</td>\n",
       "      <td>16</td>\n",
       "    </tr>\n",
       "    <tr>\n",
       "      <th>25-1</th>\n",
       "      <td>LEAGUE OF NATIONS</td>\n",
       "      <td>GREECE</td>\n",
       "      <td>Withdraw from Bulgaria</td>\n",
       "      <td>0</td>\n",
       "      <td>0</td>\n",
       "      <td>3</td>\n",
       "      <td>1925</td>\n",
       "      <td>1925</td>\n",
       "      <td>RQ</td>\n",
       "      <td>4</td>\n",
       "      <td>A</td>\n",
       "      <td>--</td>\n",
       "      <td>1</td>\n",
       "      <td>1</td>\n",
       "      <td>1</td>\n",
       "      <td>2</td>\n",
       "      <td>0</td>\n",
       "      <td>-6</td>\n",
       "      <td>1</td>\n",
       "      <td>0.9</td>\n",
       "      <td>0</td>\n",
       "      <td>0.0</td>\n",
       "      <td>0.0</td>\n",
       "      <td>0.00</td>\n",
       "      <td>36</td>\n",
       "      <td>56.0</td>\n",
       "      <td>2</td>\n",
       "      <td>--</td>\n",
       "      <td>2</td>\n",
       "      <td>3.30</td>\n",
       "      <td>48.8</td>\n",
       "      <td>174</td>\n",
       "      <td>1</td>\n",
       "      <td>16</td>\n",
       "    </tr>\n",
       "  </tbody>\n",
       "</table>\n",
       "</div>"
      ],
      "text/plain": [
       "                   Sender1      Target                             Goal  US_case  US_unilateral_case  Goal_categ  First_year Last_year Comp_policies  Int_coop Int_assistance Coop_int_org  Int_org_sender  Int_org_sender_&_target_members  Length_years  Prior_relations Regime_type Regime_type2 Regime_type3 Political_stability_prior Political_stability_during  Cost_to_target  Cost_to_target_%GNP  Cost_to_target_per_capita Trade_linkage  GNP_ratio  Health_&_stability Sanction_type  Cost_to_sender  GDP_growth%5years_average Inflation%3years_average Target_int_monetary_code  Country_group  Success score\n",
       "id_case                                                                                                                                                                                                                                                                                                                                                                                                                                                                                                                                                                                                                    \n",
       "14-1        UNITED KINGDOM     GERMANY                 Military victory        0                   0           4        1914      1918             R         4              A           --               0                                0             4                1           5            2            2                         0                          0           843.0                  7.1                      12.58             9        1.0                   3         F,X,M               4                       3.58                  2.86667                      134              1             12\n",
       "17-1         UNITED STATES       JAPAN              Shipping for Allies        1                   1           5        1917      1918             R         1              A           --               0                                0             1                2           5            1            2                         0                          0            23.0                  0.8                       0.44          20.5       13.0                   3             X               2                       5.40                     25.6                      158              1              4\n",
       "18-1        UNITED KINGDOM      RUSSIA           Destabilize Bolsheviks        0                   0           2        1918      1920            RQ         4              A           --               0                                0             2                1           1           -1            2                       0.1                          0           446.0                  4.1                       2.49          18.5        1.0                   1         F,X,M               3                        NaN                     25.6                      922              2              2\n",
       "21-1     LEAGUE OF NATIONS  YUGOSLAVIA  Military disruption vs. Albania        0                   0           3        1921      1921            RQ         4              A           --               1                                1             1                2           3            0            2                       0.4                          0             0.0                  0.0                       0.00          26.5       37.0                   2            --               2                      -1.50                     25.6                      188              2             16\n",
       "25-1     LEAGUE OF NATIONS      GREECE           Withdraw from Bulgaria        0                   0           3        1925      1925            RQ         4              A           --               1                                1             1                2           0           -6            1                       0.9                          0             0.0                  0.0                       0.00            36       56.0                   2            --               2                       3.30                     48.8                      174              1             16"
      ]
     },
     "execution_count": 127,
     "metadata": {},
     "output_type": "execute_result"
    }
   ],
   "source": [
    "# Defining X as all variables different from 'Success score', 'Policy result' and 'sanction contriution' and dropping \n",
    "# the last two as they are correlated with the first one.\n",
    "data_table = df.drop(['Policy_result', 'Sanctions_contrib'], axis=1)\n",
    "\n",
    "# Copying 'Success score' column then dropping the first (to have it as last column)\n",
    "data_table['Success score'] = data_table['Success_score']\n",
    "data_table = data_table.drop(['Success_score'], axis=1)\n",
    "\n",
    "# Replacing remaining inconsistent values ('--' and 'n.a.') for MLP classifier\n",
    "data_table = data_table.replace(to_replace='--', value= None)\n",
    "data_table = data_table.replace(to_replace='n.a.', value= None)\n",
    "\n",
    "# Dropping 'Sender 2/3' columns as they have lot of NaNs\n",
    "data_table = data_table.drop(['Sender2','Sender3'], axis =1)\n",
    "\n",
    "data_table.head()"
   ]
  },
  {
   "cell_type": "markdown",
   "metadata": {},
   "source": [
    "#### Encodage de variables catégorielles en variables numériques"
   ]
  },
  {
   "cell_type": "code",
   "execution_count": 128,
   "metadata": {},
   "outputs": [
    {
     "data": {
      "text/html": [
       "<div>\n",
       "<style scoped>\n",
       "    .dataframe tbody tr th:only-of-type {\n",
       "        vertical-align: middle;\n",
       "    }\n",
       "\n",
       "    .dataframe tbody tr th {\n",
       "        vertical-align: top;\n",
       "    }\n",
       "\n",
       "    .dataframe thead th {\n",
       "        text-align: right;\n",
       "    }\n",
       "</style>\n",
       "<table border=\"1\" class=\"dataframe\">\n",
       "  <thead>\n",
       "    <tr style=\"text-align: right;\">\n",
       "      <th></th>\n",
       "      <th>Sender1</th>\n",
       "      <th>Target</th>\n",
       "      <th>Goal</th>\n",
       "      <th>US_case</th>\n",
       "      <th>US_unilateral_case</th>\n",
       "      <th>Goal_categ</th>\n",
       "      <th>First_year</th>\n",
       "      <th>Last_year</th>\n",
       "      <th>Comp_policies</th>\n",
       "      <th>Int_coop</th>\n",
       "      <th>Int_assistance</th>\n",
       "      <th>Coop_int_org</th>\n",
       "      <th>Int_org_sender</th>\n",
       "      <th>Int_org_sender_&amp;_target_members</th>\n",
       "      <th>Length_years</th>\n",
       "      <th>Prior_relations</th>\n",
       "      <th>Regime_type</th>\n",
       "      <th>Regime_type2</th>\n",
       "      <th>Regime_type3</th>\n",
       "      <th>Political_stability_prior</th>\n",
       "      <th>Political_stability_during</th>\n",
       "      <th>Cost_to_target</th>\n",
       "      <th>Cost_to_target_%GNP</th>\n",
       "      <th>Cost_to_target_per_capita</th>\n",
       "      <th>Trade_linkage</th>\n",
       "      <th>GNP_ratio</th>\n",
       "      <th>Health_&amp;_stability</th>\n",
       "      <th>Sanction_type</th>\n",
       "      <th>Cost_to_sender</th>\n",
       "      <th>GDP_growth%5years_average</th>\n",
       "      <th>Inflation%3years_average</th>\n",
       "      <th>Target_int_monetary_code</th>\n",
       "      <th>Country_group</th>\n",
       "      <th>Success score</th>\n",
       "    </tr>\n",
       "    <tr>\n",
       "      <th>id_case</th>\n",
       "      <th></th>\n",
       "      <th></th>\n",
       "      <th></th>\n",
       "      <th></th>\n",
       "      <th></th>\n",
       "      <th></th>\n",
       "      <th></th>\n",
       "      <th></th>\n",
       "      <th></th>\n",
       "      <th></th>\n",
       "      <th></th>\n",
       "      <th></th>\n",
       "      <th></th>\n",
       "      <th></th>\n",
       "      <th></th>\n",
       "      <th></th>\n",
       "      <th></th>\n",
       "      <th></th>\n",
       "      <th></th>\n",
       "      <th></th>\n",
       "      <th></th>\n",
       "      <th></th>\n",
       "      <th></th>\n",
       "      <th></th>\n",
       "      <th></th>\n",
       "      <th></th>\n",
       "      <th></th>\n",
       "      <th></th>\n",
       "      <th></th>\n",
       "      <th></th>\n",
       "      <th></th>\n",
       "      <th></th>\n",
       "      <th></th>\n",
       "      <th></th>\n",
       "    </tr>\n",
       "  </thead>\n",
       "  <tbody>\n",
       "    <tr>\n",
       "      <th>14-1</th>\n",
       "      <td>21</td>\n",
       "      <td>43</td>\n",
       "      <td>105</td>\n",
       "      <td>0</td>\n",
       "      <td>0</td>\n",
       "      <td>4</td>\n",
       "      <td>1914</td>\n",
       "      <td>0</td>\n",
       "      <td>4</td>\n",
       "      <td>4</td>\n",
       "      <td>0</td>\n",
       "      <td>0</td>\n",
       "      <td>0</td>\n",
       "      <td>0</td>\n",
       "      <td>4</td>\n",
       "      <td>1</td>\n",
       "      <td>7</td>\n",
       "      <td>13</td>\n",
       "      <td>1</td>\n",
       "      <td>0</td>\n",
       "      <td>0</td>\n",
       "      <td>843.0</td>\n",
       "      <td>7.1</td>\n",
       "      <td>12.58</td>\n",
       "      <td>27</td>\n",
       "      <td>1.0</td>\n",
       "      <td>3</td>\n",
       "      <td>4</td>\n",
       "      <td>4</td>\n",
       "      <td>3.58</td>\n",
       "      <td>27</td>\n",
       "      <td>3</td>\n",
       "      <td>1</td>\n",
       "      <td>12</td>\n",
       "    </tr>\n",
       "    <tr>\n",
       "      <th>17-1</th>\n",
       "      <td>23</td>\n",
       "      <td>60</td>\n",
       "      <td>130</td>\n",
       "      <td>1</td>\n",
       "      <td>1</td>\n",
       "      <td>5</td>\n",
       "      <td>1917</td>\n",
       "      <td>0</td>\n",
       "      <td>4</td>\n",
       "      <td>1</td>\n",
       "      <td>0</td>\n",
       "      <td>0</td>\n",
       "      <td>0</td>\n",
       "      <td>0</td>\n",
       "      <td>1</td>\n",
       "      <td>2</td>\n",
       "      <td>7</td>\n",
       "      <td>12</td>\n",
       "      <td>1</td>\n",
       "      <td>0</td>\n",
       "      <td>0</td>\n",
       "      <td>23.0</td>\n",
       "      <td>0.8</td>\n",
       "      <td>0.44</td>\n",
       "      <td>50</td>\n",
       "      <td>13.0</td>\n",
       "      <td>3</td>\n",
       "      <td>6</td>\n",
       "      <td>2</td>\n",
       "      <td>5.40</td>\n",
       "      <td>113</td>\n",
       "      <td>7</td>\n",
       "      <td>1</td>\n",
       "      <td>4</td>\n",
       "    </tr>\n",
       "    <tr>\n",
       "      <th>18-1</th>\n",
       "      <td>21</td>\n",
       "      <td>96</td>\n",
       "      <td>37</td>\n",
       "      <td>0</td>\n",
       "      <td>0</td>\n",
       "      <td>2</td>\n",
       "      <td>1918</td>\n",
       "      <td>1</td>\n",
       "      <td>5</td>\n",
       "      <td>4</td>\n",
       "      <td>0</td>\n",
       "      <td>0</td>\n",
       "      <td>0</td>\n",
       "      <td>0</td>\n",
       "      <td>2</td>\n",
       "      <td>1</td>\n",
       "      <td>3</td>\n",
       "      <td>10</td>\n",
       "      <td>1</td>\n",
       "      <td>1</td>\n",
       "      <td>0</td>\n",
       "      <td>446.0</td>\n",
       "      <td>4.1</td>\n",
       "      <td>2.49</td>\n",
       "      <td>45</td>\n",
       "      <td>1.0</td>\n",
       "      <td>1</td>\n",
       "      <td>4</td>\n",
       "      <td>3</td>\n",
       "      <td>NaN</td>\n",
       "      <td>113</td>\n",
       "      <td>87</td>\n",
       "      <td>2</td>\n",
       "      <td>2</td>\n",
       "    </tr>\n",
       "    <tr>\n",
       "      <th>21-1</th>\n",
       "      <td>13</td>\n",
       "      <td>122</td>\n",
       "      <td>98</td>\n",
       "      <td>0</td>\n",
       "      <td>0</td>\n",
       "      <td>3</td>\n",
       "      <td>1921</td>\n",
       "      <td>2</td>\n",
       "      <td>5</td>\n",
       "      <td>4</td>\n",
       "      <td>0</td>\n",
       "      <td>0</td>\n",
       "      <td>1</td>\n",
       "      <td>1</td>\n",
       "      <td>1</td>\n",
       "      <td>2</td>\n",
       "      <td>5</td>\n",
       "      <td>11</td>\n",
       "      <td>1</td>\n",
       "      <td>4</td>\n",
       "      <td>0</td>\n",
       "      <td>0.0</td>\n",
       "      <td>0.0</td>\n",
       "      <td>0.00</td>\n",
       "      <td>61</td>\n",
       "      <td>37.0</td>\n",
       "      <td>2</td>\n",
       "      <td>0</td>\n",
       "      <td>2</td>\n",
       "      <td>-1.50</td>\n",
       "      <td>113</td>\n",
       "      <td>13</td>\n",
       "      <td>2</td>\n",
       "      <td>16</td>\n",
       "    </tr>\n",
       "    <tr>\n",
       "      <th>25-1</th>\n",
       "      <td>13</td>\n",
       "      <td>45</td>\n",
       "      <td>139</td>\n",
       "      <td>0</td>\n",
       "      <td>0</td>\n",
       "      <td>3</td>\n",
       "      <td>1925</td>\n",
       "      <td>3</td>\n",
       "      <td>5</td>\n",
       "      <td>4</td>\n",
       "      <td>0</td>\n",
       "      <td>0</td>\n",
       "      <td>1</td>\n",
       "      <td>1</td>\n",
       "      <td>1</td>\n",
       "      <td>2</td>\n",
       "      <td>2</td>\n",
       "      <td>5</td>\n",
       "      <td>0</td>\n",
       "      <td>8</td>\n",
       "      <td>0</td>\n",
       "      <td>0.0</td>\n",
       "      <td>0.0</td>\n",
       "      <td>0.00</td>\n",
       "      <td>73</td>\n",
       "      <td>56.0</td>\n",
       "      <td>2</td>\n",
       "      <td>0</td>\n",
       "      <td>2</td>\n",
       "      <td>3.30</td>\n",
       "      <td>126</td>\n",
       "      <td>9</td>\n",
       "      <td>1</td>\n",
       "      <td>16</td>\n",
       "    </tr>\n",
       "  </tbody>\n",
       "</table>\n",
       "</div>"
      ],
      "text/plain": [
       "         Sender1  Target  Goal  US_case  US_unilateral_case  Goal_categ  First_year  Last_year  Comp_policies  Int_coop  Int_assistance  Coop_int_org  Int_org_sender  Int_org_sender_&_target_members  Length_years  Prior_relations  Regime_type  Regime_type2  Regime_type3  Political_stability_prior  Political_stability_during  Cost_to_target  Cost_to_target_%GNP  Cost_to_target_per_capita  Trade_linkage  GNP_ratio  Health_&_stability  Sanction_type  Cost_to_sender  GDP_growth%5years_average  Inflation%3years_average  Target_int_monetary_code  Country_group  Success score\n",
       "id_case                                                                                                                                                                                                                                                                                                                                                                                                                                                                                                                                                                                        \n",
       "14-1          21      43   105        0                   0           4        1914          0              4         4               0             0               0                                0             4                1            7            13             1                          0                           0           843.0                  7.1                      12.58             27        1.0                   3              4               4                       3.58                        27                         3              1             12\n",
       "17-1          23      60   130        1                   1           5        1917          0              4         1               0             0               0                                0             1                2            7            12             1                          0                           0            23.0                  0.8                       0.44             50       13.0                   3              6               2                       5.40                       113                         7              1              4\n",
       "18-1          21      96    37        0                   0           2        1918          1              5         4               0             0               0                                0             2                1            3            10             1                          1                           0           446.0                  4.1                       2.49             45        1.0                   1              4               3                        NaN                       113                        87              2              2\n",
       "21-1          13     122    98        0                   0           3        1921          2              5         4               0             0               1                                1             1                2            5            11             1                          4                           0             0.0                  0.0                       0.00             61       37.0                   2              0               2                      -1.50                       113                        13              2             16\n",
       "25-1          13      45   139        0                   0           3        1925          3              5         4               0             0               1                                1             1                2            2             5             0                          8                           0             0.0                  0.0                       0.00             73       56.0                   2              0               2                       3.30                       126                         9              1             16"
      ]
     },
     "execution_count": 128,
     "metadata": {},
     "output_type": "execute_result"
    }
   ],
   "source": [
    "lb_make = LabelEncoder()\n",
    "\n",
    "# Transforming categorical values to numeeric values\n",
    "for c in data_table.columns:\n",
    "    if(data_table[c].dtype == 'O'):\n",
    "        data_table[c] = lb_make.fit_transform(data_table[c])\n",
    "        #print(type(c))   \n",
    "\n",
    "data_table.head()"
   ]
  },
  {
   "cell_type": "code",
   "execution_count": 129,
   "metadata": {},
   "outputs": [
    {
     "ename": "KeyError",
     "evalue": "\"['Case no.b'] not found in axis\"",
     "output_type": "error",
     "traceback": [
      "\u001b[0;31m---------------------------------------------------------------------------\u001b[0m",
      "\u001b[0;31mKeyError\u001b[0m                                  Traceback (most recent call last)",
      "\u001b[0;32m<ipython-input-129-e0bb5b9a71c6>\u001b[0m in \u001b[0;36m<module>\u001b[0;34m\u001b[0m\n\u001b[1;32m      3\u001b[0m \u001b[0;34m\u001b[0m\u001b[0m\n\u001b[1;32m      4\u001b[0m data_table2 = data_table.drop(['Case no.b', 'US_case','Sender1','Target','US_unilateral_case',\n\u001b[0;32m----> 5\u001b[0;31m                               'Goal','First_year','Last_year','Int_org_sender'], axis=1)\n\u001b[0m\u001b[1;32m      6\u001b[0m \u001b[0;34m\u001b[0m\u001b[0m\n\u001b[1;32m      7\u001b[0m \u001b[0mnbre_col\u001b[0m \u001b[0;34m=\u001b[0m \u001b[0mdata_table2\u001b[0m\u001b[0;34m.\u001b[0m\u001b[0mshape\u001b[0m\u001b[0;34m[\u001b[0m\u001b[0;36m1\u001b[0m\u001b[0;34m]\u001b[0m \u001b[0;34m-\u001b[0m \u001b[0;36m1\u001b[0m\u001b[0;34m\u001b[0m\u001b[0;34m\u001b[0m\u001b[0m\n",
      "\u001b[0;32m~/anaconda3/envs/data-science/lib/python3.7/site-packages/pandas/core/frame.py\u001b[0m in \u001b[0;36mdrop\u001b[0;34m(self, labels, axis, index, columns, level, inplace, errors)\u001b[0m\n\u001b[1;32m   3995\u001b[0m             \u001b[0mlevel\u001b[0m\u001b[0;34m=\u001b[0m\u001b[0mlevel\u001b[0m\u001b[0;34m,\u001b[0m\u001b[0;34m\u001b[0m\u001b[0;34m\u001b[0m\u001b[0m\n\u001b[1;32m   3996\u001b[0m             \u001b[0minplace\u001b[0m\u001b[0;34m=\u001b[0m\u001b[0minplace\u001b[0m\u001b[0;34m,\u001b[0m\u001b[0;34m\u001b[0m\u001b[0;34m\u001b[0m\u001b[0m\n\u001b[0;32m-> 3997\u001b[0;31m             \u001b[0merrors\u001b[0m\u001b[0;34m=\u001b[0m\u001b[0merrors\u001b[0m\u001b[0;34m,\u001b[0m\u001b[0;34m\u001b[0m\u001b[0;34m\u001b[0m\u001b[0m\n\u001b[0m\u001b[1;32m   3998\u001b[0m         )\n\u001b[1;32m   3999\u001b[0m \u001b[0;34m\u001b[0m\u001b[0m\n",
      "\u001b[0;32m~/anaconda3/envs/data-science/lib/python3.7/site-packages/pandas/core/generic.py\u001b[0m in \u001b[0;36mdrop\u001b[0;34m(self, labels, axis, index, columns, level, inplace, errors)\u001b[0m\n\u001b[1;32m   3934\u001b[0m         \u001b[0;32mfor\u001b[0m \u001b[0maxis\u001b[0m\u001b[0;34m,\u001b[0m \u001b[0mlabels\u001b[0m \u001b[0;32min\u001b[0m \u001b[0maxes\u001b[0m\u001b[0;34m.\u001b[0m\u001b[0mitems\u001b[0m\u001b[0;34m(\u001b[0m\u001b[0;34m)\u001b[0m\u001b[0;34m:\u001b[0m\u001b[0;34m\u001b[0m\u001b[0;34m\u001b[0m\u001b[0m\n\u001b[1;32m   3935\u001b[0m             \u001b[0;32mif\u001b[0m \u001b[0mlabels\u001b[0m \u001b[0;32mis\u001b[0m \u001b[0;32mnot\u001b[0m \u001b[0;32mNone\u001b[0m\u001b[0;34m:\u001b[0m\u001b[0;34m\u001b[0m\u001b[0;34m\u001b[0m\u001b[0m\n\u001b[0;32m-> 3936\u001b[0;31m                 \u001b[0mobj\u001b[0m \u001b[0;34m=\u001b[0m \u001b[0mobj\u001b[0m\u001b[0;34m.\u001b[0m\u001b[0m_drop_axis\u001b[0m\u001b[0;34m(\u001b[0m\u001b[0mlabels\u001b[0m\u001b[0;34m,\u001b[0m \u001b[0maxis\u001b[0m\u001b[0;34m,\u001b[0m \u001b[0mlevel\u001b[0m\u001b[0;34m=\u001b[0m\u001b[0mlevel\u001b[0m\u001b[0;34m,\u001b[0m \u001b[0merrors\u001b[0m\u001b[0;34m=\u001b[0m\u001b[0merrors\u001b[0m\u001b[0;34m)\u001b[0m\u001b[0;34m\u001b[0m\u001b[0;34m\u001b[0m\u001b[0m\n\u001b[0m\u001b[1;32m   3937\u001b[0m \u001b[0;34m\u001b[0m\u001b[0m\n\u001b[1;32m   3938\u001b[0m         \u001b[0;32mif\u001b[0m \u001b[0minplace\u001b[0m\u001b[0;34m:\u001b[0m\u001b[0;34m\u001b[0m\u001b[0;34m\u001b[0m\u001b[0m\n",
      "\u001b[0;32m~/anaconda3/envs/data-science/lib/python3.7/site-packages/pandas/core/generic.py\u001b[0m in \u001b[0;36m_drop_axis\u001b[0;34m(self, labels, axis, level, errors)\u001b[0m\n\u001b[1;32m   3968\u001b[0m                 \u001b[0mnew_axis\u001b[0m \u001b[0;34m=\u001b[0m \u001b[0maxis\u001b[0m\u001b[0;34m.\u001b[0m\u001b[0mdrop\u001b[0m\u001b[0;34m(\u001b[0m\u001b[0mlabels\u001b[0m\u001b[0;34m,\u001b[0m \u001b[0mlevel\u001b[0m\u001b[0;34m=\u001b[0m\u001b[0mlevel\u001b[0m\u001b[0;34m,\u001b[0m \u001b[0merrors\u001b[0m\u001b[0;34m=\u001b[0m\u001b[0merrors\u001b[0m\u001b[0;34m)\u001b[0m\u001b[0;34m\u001b[0m\u001b[0;34m\u001b[0m\u001b[0m\n\u001b[1;32m   3969\u001b[0m             \u001b[0;32melse\u001b[0m\u001b[0;34m:\u001b[0m\u001b[0;34m\u001b[0m\u001b[0;34m\u001b[0m\u001b[0m\n\u001b[0;32m-> 3970\u001b[0;31m                 \u001b[0mnew_axis\u001b[0m \u001b[0;34m=\u001b[0m \u001b[0maxis\u001b[0m\u001b[0;34m.\u001b[0m\u001b[0mdrop\u001b[0m\u001b[0;34m(\u001b[0m\u001b[0mlabels\u001b[0m\u001b[0;34m,\u001b[0m \u001b[0merrors\u001b[0m\u001b[0;34m=\u001b[0m\u001b[0merrors\u001b[0m\u001b[0;34m)\u001b[0m\u001b[0;34m\u001b[0m\u001b[0;34m\u001b[0m\u001b[0m\n\u001b[0m\u001b[1;32m   3971\u001b[0m             \u001b[0mresult\u001b[0m \u001b[0;34m=\u001b[0m \u001b[0mself\u001b[0m\u001b[0;34m.\u001b[0m\u001b[0mreindex\u001b[0m\u001b[0;34m(\u001b[0m\u001b[0;34m**\u001b[0m\u001b[0;34m{\u001b[0m\u001b[0maxis_name\u001b[0m\u001b[0;34m:\u001b[0m \u001b[0mnew_axis\u001b[0m\u001b[0;34m}\u001b[0m\u001b[0;34m)\u001b[0m\u001b[0;34m\u001b[0m\u001b[0;34m\u001b[0m\u001b[0m\n\u001b[1;32m   3972\u001b[0m \u001b[0;34m\u001b[0m\u001b[0m\n",
      "\u001b[0;32m~/anaconda3/envs/data-science/lib/python3.7/site-packages/pandas/core/indexes/base.py\u001b[0m in \u001b[0;36mdrop\u001b[0;34m(self, labels, errors)\u001b[0m\n\u001b[1;32m   5015\u001b[0m         \u001b[0;32mif\u001b[0m \u001b[0mmask\u001b[0m\u001b[0;34m.\u001b[0m\u001b[0many\u001b[0m\u001b[0;34m(\u001b[0m\u001b[0;34m)\u001b[0m\u001b[0;34m:\u001b[0m\u001b[0;34m\u001b[0m\u001b[0;34m\u001b[0m\u001b[0m\n\u001b[1;32m   5016\u001b[0m             \u001b[0;32mif\u001b[0m \u001b[0merrors\u001b[0m \u001b[0;34m!=\u001b[0m \u001b[0;34m\"ignore\"\u001b[0m\u001b[0;34m:\u001b[0m\u001b[0;34m\u001b[0m\u001b[0;34m\u001b[0m\u001b[0m\n\u001b[0;32m-> 5017\u001b[0;31m                 \u001b[0;32mraise\u001b[0m \u001b[0mKeyError\u001b[0m\u001b[0;34m(\u001b[0m\u001b[0;34mf\"{labels[mask]} not found in axis\"\u001b[0m\u001b[0;34m)\u001b[0m\u001b[0;34m\u001b[0m\u001b[0;34m\u001b[0m\u001b[0m\n\u001b[0m\u001b[1;32m   5018\u001b[0m             \u001b[0mindexer\u001b[0m \u001b[0;34m=\u001b[0m \u001b[0mindexer\u001b[0m\u001b[0;34m[\u001b[0m\u001b[0;34m~\u001b[0m\u001b[0mmask\u001b[0m\u001b[0;34m]\u001b[0m\u001b[0;34m\u001b[0m\u001b[0;34m\u001b[0m\u001b[0m\n\u001b[1;32m   5019\u001b[0m         \u001b[0;32mreturn\u001b[0m \u001b[0mself\u001b[0m\u001b[0;34m.\u001b[0m\u001b[0mdelete\u001b[0m\u001b[0;34m(\u001b[0m\u001b[0mindexer\u001b[0m\u001b[0;34m)\u001b[0m\u001b[0;34m\u001b[0m\u001b[0;34m\u001b[0m\u001b[0m\n",
      "\u001b[0;31mKeyError\u001b[0m: \"['Case no.b'] not found in axis\""
     ]
    }
   ],
   "source": [
    "# Filling null values with 0\n",
    "data_table = data_table.fillna(0)\n",
    "\n",
    "data_table2 = data_table.drop(['Case no.b', 'US_case','Sender1','Target','US_unilateral_case',\n",
    "                              'Goal','First_year','Last_year','Int_org_sender'], axis=1)\n",
    "\n",
    "nbre_col = data_table2.shape[1] - 1"
   ]
  },
  {
   "cell_type": "code",
   "execution_count": 130,
   "metadata": {},
   "outputs": [
    {
     "ename": "NameError",
     "evalue": "name 'data_table2' is not defined",
     "output_type": "error",
     "traceback": [
      "\u001b[0;31m---------------------------------------------------------------------------\u001b[0m",
      "\u001b[0;31mNameError\u001b[0m                                 Traceback (most recent call last)",
      "\u001b[0;32m<ipython-input-130-243fd6f953ab>\u001b[0m in \u001b[0;36m<module>\u001b[0;34m\u001b[0m\n\u001b[1;32m      1\u001b[0m \u001b[0;31m# Splitting data for training and test set\u001b[0m\u001b[0;34m\u001b[0m\u001b[0;34m\u001b[0m\u001b[0;34m\u001b[0m\u001b[0m\n\u001b[0;32m----> 2\u001b[0;31m \u001b[0mX\u001b[0m\u001b[0;34m,\u001b[0m \u001b[0my\u001b[0m \u001b[0;34m=\u001b[0m \u001b[0mdata_table2\u001b[0m\u001b[0;34m.\u001b[0m\u001b[0miloc\u001b[0m\u001b[0;34m[\u001b[0m\u001b[0;34m:\u001b[0m\u001b[0;34m,\u001b[0m\u001b[0;34m:\u001b[0m\u001b[0mnbre_col\u001b[0m\u001b[0;34m]\u001b[0m\u001b[0;34m,\u001b[0m \u001b[0mdata_table2\u001b[0m\u001b[0;34m[\u001b[0m\u001b[0;34m'Success score'\u001b[0m\u001b[0;34m]\u001b[0m\u001b[0;34m\u001b[0m\u001b[0;34m\u001b[0m\u001b[0m\n\u001b[0m\u001b[1;32m      3\u001b[0m \u001b[0mX_train\u001b[0m\u001b[0;34m,\u001b[0m \u001b[0mX_test\u001b[0m\u001b[0;34m,\u001b[0m \u001b[0my_train\u001b[0m\u001b[0;34m,\u001b[0m \u001b[0my_test\u001b[0m \u001b[0;34m=\u001b[0m \u001b[0mtrain_test_split\u001b[0m\u001b[0;34m(\u001b[0m\u001b[0mX\u001b[0m\u001b[0;34m,\u001b[0m \u001b[0my\u001b[0m\u001b[0;34m,\u001b[0m \u001b[0mtest_size\u001b[0m\u001b[0;34m=\u001b[0m\u001b[0;36m0.33\u001b[0m\u001b[0;34m,\u001b[0m \u001b[0mrandom_state\u001b[0m\u001b[0;34m=\u001b[0m\u001b[0;36m0\u001b[0m\u001b[0;34m)\u001b[0m\u001b[0;34m\u001b[0m\u001b[0;34m\u001b[0m\u001b[0m\n",
      "\u001b[0;31mNameError\u001b[0m: name 'data_table2' is not defined"
     ]
    }
   ],
   "source": [
    "# Splitting data for training and test set\n",
    "X, y = data_table2.iloc[:,:nbre_col], data_table2['Success score']\n",
    "X_train, X_test, y_train, y_test = train_test_split(X, y, test_size=0.33, random_state=0)"
   ]
  },
  {
   "cell_type": "markdown",
   "metadata": {},
   "source": [
    "## Régression linéaire"
   ]
  },
  {
   "cell_type": "code",
   "execution_count": 553,
   "metadata": {},
   "outputs": [],
   "source": [
    "model = linear_model.LinearRegression()\n",
    "model.fit(X_train, y_train)           # réduction \n",
    "pred2 = model.predict(X_test)           # modele pour predire l'echantillon test \n",
    "# print(pred2)"
   ]
  },
  {
   "cell_type": "code",
   "execution_count": 554,
   "metadata": {},
   "outputs": [
    {
     "name": "stdout",
     "output_type": "stream",
     "text": [
      "----------------------\n",
      "MSE est : 17.581040677027115\n"
     ]
    }
   ],
   "source": [
    "#les coeffictients B0, B1, B2 du modèle linéaire\n",
    "#print(\" Les coeffients \")\n",
    "#print(\"----------------------\")\n",
    "#print(pd.Series(model.coef_, index = X.columns)) # Print coefficients\n",
    "print(\"----------------------\")\n",
    "# la méthode des moindres carrés estime l'écart entre la valeur prédite et la valeur observée\n",
    "print(\"MSE est :\", mean_squared_error(y_test, pred2)) \n",
    "#print(r2_score(y_test, pred2))"
   ]
  },
  {
   "cell_type": "code",
   "execution_count": 555,
   "metadata": {},
   "outputs": [
    {
     "name": "stdout",
     "output_type": "stream",
     "text": [
      "r2 score =  0.0691194181839968\n"
     ]
    }
   ],
   "source": [
    "print('r2 score = ', r2_score(y_test, pred2))  "
   ]
  },
  {
   "cell_type": "markdown",
   "metadata": {},
   "source": [
    "## régression linéaire avec statsmodels"
   ]
  },
  {
   "cell_type": "code",
   "execution_count": 556,
   "metadata": {},
   "outputs": [
    {
     "name": "stdout",
     "output_type": "stream",
     "text": [
      "                                 OLS Regression Results                                \n",
      "=======================================================================================\n",
      "Dep. Variable:          Success score   R-squared (uncentered):                   0.778\n",
      "Model:                            OLS   Adj. R-squared (uncentered):              0.749\n",
      "Method:                 Least Squares   F-statistic:                              26.36\n",
      "Date:                Thu, 30 Apr 2020   Prob (F-statistic):                    1.28e-46\n",
      "Time:                        13:56:18   Log-Likelihood:                         -561.97\n",
      "No. Observations:                 204   AIC:                                      1172.\n",
      "Df Residuals:                     180   BIC:                                      1252.\n",
      "Df Model:                          24                                                  \n",
      "Covariance Type:            nonrobust                                                  \n",
      "===================================================================================================\n",
      "                                      coef    std err          t      P>|t|      [0.025      0.975]\n",
      "---------------------------------------------------------------------------------------------------\n",
      "Goal_categ                         -0.1585      0.239     -0.663      0.508      -0.630       0.313\n",
      "Comp_policies                      -0.0846      0.247     -0.343      0.732      -0.572       0.403\n",
      "Int_coop                            0.3774      0.338      1.117      0.265      -0.289       1.044\n",
      "Int_assistance                  -3.865e-15   9.04e-15     -0.427      0.670   -2.17e-14     1.4e-14\n",
      "Coop_int_org                        0.0854      0.066      1.286      0.200      -0.046       0.217\n",
      "Int_org_sender_&_target_members     0.3085      0.847      0.364      0.716      -1.363       1.980\n",
      "Length_years                       -0.0288      0.034     -0.848      0.398      -0.096       0.038\n",
      "Prior_relations                     1.2676      0.426      2.973      0.003       0.426       2.109\n",
      "Regime_type                         0.0271      0.168      0.161      0.872      -0.305       0.359\n",
      "Regime_type2                        0.2236      0.172      1.297      0.196      -0.116       0.564\n",
      "Regime_type3                       -1.1500      1.228     -0.937      0.350      -3.573       1.273\n",
      "Political_stability_prior          -0.0966      0.154     -0.626      0.532      -0.401       0.208\n",
      "Political_stability_during         -0.0426      0.038     -1.127      0.261      -0.117       0.032\n",
      "Cost_to_target                     -0.0011      0.001     -1.985      0.049      -0.002   -6.48e-06\n",
      "Cost_to_target_%GNP                 0.1536      0.090      1.708      0.089      -0.024       0.331\n",
      "Cost_to_target_per_capita           0.0093      0.009      0.977      0.330      -0.009       0.028\n",
      "Trade_linkage                       0.0169      0.011      1.601      0.111      -0.004       0.038\n",
      "GNP_ratio                       -4.001e-05   4.93e-05     -0.812      0.418      -0.000    5.73e-05\n",
      "Health_&_stability                  0.0484      0.500      0.097      0.923      -0.937       1.034\n",
      "Sanction_type                      -0.4126      0.185     -2.234      0.027      -0.777      -0.048\n",
      "Cost_to_sender                      1.0199      0.502      2.031      0.044       0.029       2.011\n",
      "GDP_growth%5years_average          -0.0042      0.072     -0.058      0.954      -0.147       0.139\n",
      "Inflation%3years_average            0.0185      0.007      2.661      0.009       0.005       0.032\n",
      "Target_int_monetary_code           -0.0170      0.011     -1.566      0.119      -0.038       0.004\n",
      "Country_group                       0.0239      0.217      0.110      0.912      -0.404       0.452\n",
      "==============================================================================\n",
      "Omnibus:                        5.327   Durbin-Watson:                   2.041\n",
      "Prob(Omnibus):                  0.070   Jarque-Bera (JB):                4.729\n",
      "Skew:                           0.298   Prob(JB):                       0.0940\n",
      "Kurtosis:                       2.551   Cond. No.                     4.60e+18\n",
      "==============================================================================\n",
      "\n",
      "Warnings:\n",
      "[1] Standard Errors assume that the covariance matrix of the errors is correctly specified.\n",
      "[2] The smallest eigenvalue is 4.81e-28. This might indicate that there are\n",
      "strong multicollinearity problems or that the design matrix is singular.\n"
     ]
    }
   ],
   "source": [
    "model = sm.OLS(y, X)\n",
    "results = model.fit()\n",
    "# Avec  statsmodel, on a une sortie qui ressemble beaucoup à celle de R\n",
    "print(results.summary())"
   ]
  },
  {
   "cell_type": "code",
   "execution_count": null,
   "metadata": {},
   "outputs": [],
   "source": []
  },
  {
   "cell_type": "markdown",
   "metadata": {},
   "source": [
    "### Lasso"
   ]
  },
  {
   "cell_type": "code",
   "execution_count": 557,
   "metadata": {},
   "outputs": [],
   "source": [
    "#generer un alpha quelconque pour test \n",
    "alphas = 10**np.linspace(10,-2,100)*0.5"
   ]
  },
  {
   "cell_type": "markdown",
   "metadata": {},
   "source": [
    "#### Coefficients"
   ]
  },
  {
   "cell_type": "code",
   "execution_count": 558,
   "metadata": {},
   "outputs": [],
   "source": [
    "#générer une boucle pour récupérer les coeffs\n",
    "lasso = Lasso(max_iter = 10000, normalize = True)\n",
    "coefs = []\n",
    "\n",
    "for a in alphas:\n",
    "    lasso.set_params(alpha=a)\n",
    "    lasso.fit(scale(X_train), y_train)\n",
    "    coefs.append(lasso.coef_)"
   ]
  },
  {
   "cell_type": "markdown",
   "metadata": {},
   "source": [
    "#### représentation graphique du modèle"
   ]
  },
  {
   "cell_type": "code",
   "execution_count": 559,
   "metadata": {},
   "outputs": [
    {
     "data": {
      "text/plain": [
       "\"ax = plt.gca()\\nax.plot(alphas*2, coefs)\\nax.set_xscale('log')\\nplt.axis('tight')\\nplt.xlabel('alpha')\\nplt.ylabel('weights')\""
      ]
     },
     "execution_count": 559,
     "metadata": {},
     "output_type": "execute_result"
    }
   ],
   "source": [
    "\"\"\"ax = plt.gca()\n",
    "ax.plot(alphas*2, coefs)\n",
    "ax.set_xscale('log')\n",
    "plt.axis('tight')\n",
    "plt.xlabel('alpha')\n",
    "plt.ylabel('weights')\"\"\"\n"
   ]
  },
  {
   "cell_type": "markdown",
   "metadata": {},
   "source": [
    "#### fit et prediction"
   ]
  },
  {
   "cell_type": "code",
   "execution_count": 560,
   "metadata": {},
   "outputs": [
    {
     "name": "stdout",
     "output_type": "stream",
     "text": [
      "---------------------------\n",
      "MSE est :  17.402897129383703\n"
     ]
    }
   ],
   "source": [
    "lassocv = LassoCV(alphas = None, cv = 10, max_iter = 100000, normalize = True)\n",
    "lassocv.fit(X_train, y_train)\n",
    "\n",
    "lasso.set_params(alpha=lassocv.alpha_)\n",
    "lasso.fit(X_train, y_train)\n",
    "\n",
    "print(\"---------------------------\")\n",
    "pred = lasso.predict(X_test)\n",
    "#print(pred)\n",
    "#print(\"---------------------------\")\n",
    "\n",
    "print(\"MSE est : \", mean_squared_error(y_test, pred))\n",
    "# mean_squared_error(y_test, lasso.predict(X_test))"
   ]
  },
  {
   "cell_type": "code",
   "execution_count": 561,
   "metadata": {},
   "outputs": [
    {
     "name": "stdout",
     "output_type": "stream",
     "text": [
      "r2 score =  0.07855175909733958\n"
     ]
    }
   ],
   "source": [
    "print('r2 score = ', r2_score(y_test, pred))  "
   ]
  },
  {
   "cell_type": "code",
   "execution_count": null,
   "metadata": {},
   "outputs": [],
   "source": []
  },
  {
   "cell_type": "markdown",
   "metadata": {},
   "source": [
    "### RIDGE"
   ]
  },
  {
   "cell_type": "code",
   "execution_count": 562,
   "metadata": {},
   "outputs": [
    {
     "data": {
      "text/plain": [
       "(100, 25)"
      ]
     },
     "execution_count": 562,
     "metadata": {},
     "output_type": "execute_result"
    }
   ],
   "source": [
    "#methode de Ridge\n",
    "ridge = Ridge(normalize = True)\n",
    "coefs = []\n",
    "\n",
    "for a in alphas:\n",
    "    ridge.set_params(alpha = a)\n",
    "    ridge.fit(X, y)   #reduction\n",
    "    coefs.append(ridge.coef_)    \n",
    "np.shape(coefs)"
   ]
  },
  {
   "cell_type": "markdown",
   "metadata": {},
   "source": [
    "#### représentation graphique du modèle"
   ]
  },
  {
   "cell_type": "code",
   "execution_count": 563,
   "metadata": {},
   "outputs": [
    {
     "data": {
      "text/plain": [
       "\"ax = plt.gca()\\nax.plot(alphas, coefs)\\nax.set_xscale('log')\\nplt.axis('tight')\\nplt.xlabel('alpha')\\nplt.ylabel('weights')\""
      ]
     },
     "execution_count": 563,
     "metadata": {},
     "output_type": "execute_result"
    }
   ],
   "source": [
    "\"\"\"ax = plt.gca()\n",
    "ax.plot(alphas, coefs)\n",
    "ax.set_xscale('log')\n",
    "plt.axis('tight')\n",
    "plt.xlabel('alpha')\n",
    "plt.ylabel('weights')\"\"\""
   ]
  },
  {
   "cell_type": "markdown",
   "metadata": {},
   "source": [
    "#### construction du modèle et MSE"
   ]
  },
  {
   "cell_type": "code",
   "execution_count": 564,
   "metadata": {},
   "outputs": [
    {
     "name": "stdout",
     "output_type": "stream",
     "text": [
      "MSE est : 17.53031282178602\n"
     ]
    }
   ],
   "source": [
    "## alpha = 4 par défaut\n",
    "ridge2 = Ridge(alpha = 4, normalize = True)\n",
    "ridge2.fit(X_train, y_train)             # donnees d'apprentissage\n",
    "\n",
    "pred2 = ridge2.predict(X_test)           # prediction sur l'échantillon test \n",
    "print(\"MSE est :\", mean_squared_error(y_test, pred2))          # MSE"
   ]
  },
  {
   "cell_type": "code",
   "execution_count": 565,
   "metadata": {},
   "outputs": [
    {
     "name": "stdout",
     "output_type": "stream",
     "text": [
      "MSE est : 18.888408303433664\n"
     ]
    }
   ],
   "source": [
    "## pour un alpha grand alpha = 10**10\n",
    "ridge3 = Ridge(alpha = 10**10, normalize = True)\n",
    "ridge3.fit(X_train, y_train)             # donnees d'apprentissage\n",
    "pred3 = ridge3.predict(X_test)           # prediction sur l'échantillon test\n",
    "\n",
    "print(\"MSE est :\",mean_squared_error(y_test, pred3))          # l'erreur MSE est plus grand quand alpha augmente"
   ]
  },
  {
   "cell_type": "code",
   "execution_count": 566,
   "metadata": {},
   "outputs": [
    {
     "name": "stdout",
     "output_type": "stream",
     "text": [
      "17.581040677026987\n"
     ]
    }
   ],
   "source": [
    "## alpha = 0 : ça revient à faire la régression linéaire\n",
    "ridge2 = Ridge(alpha = 0, normalize = True)\n",
    "ridge2.fit(X_train, y_train)             # donnees d'apprentissage\n",
    "pred = ridge2.predict(X_test)            # prediction sur l'échantillon test\n",
    "\n",
    "print(mean_squared_error(y_test, pred))           # l'erreur est petite et équivaut à celle de la régression linéaire plus haut"
   ]
  },
  {
   "cell_type": "markdown",
   "metadata": {},
   "source": [
    "#### Validation croisée"
   ]
  },
  {
   "cell_type": "code",
   "execution_count": 567,
   "metadata": {},
   "outputs": [
    {
     "data": {
      "text/plain": [
       "RidgeCV(alphas=array([5.00000000e+09, 3.78231664e+09, 2.86118383e+09, 2.16438064e+09,\n",
       "       1.63727458e+09, 1.23853818e+09, 9.36908711e+08, 7.08737081e+08,\n",
       "       5.36133611e+08, 4.05565415e+08, 3.06795364e+08, 2.32079442e+08,\n",
       "       1.75559587e+08, 1.32804389e+08, 1.00461650e+08, 7.59955541e+07,\n",
       "       5.74878498e+07, 4.34874501e+07, 3.28966612e+07, 2.48851178e+07,\n",
       "       1.88246790e+07, 1.42401793e+0...\n",
       "       3.28966612e-01, 2.48851178e-01, 1.88246790e-01, 1.42401793e-01,\n",
       "       1.07721735e-01, 8.14875417e-02, 6.16423370e-02, 4.66301673e-02,\n",
       "       3.52740116e-02, 2.66834962e-02, 2.01850863e-02, 1.52692775e-02,\n",
       "       1.15506485e-02, 8.73764200e-03, 6.60970574e-03, 5.00000000e-03]),\n",
       "        cv=None, fit_intercept=True, gcv_mode=None, normalize=True,\n",
       "        scoring='neg_mean_squared_error', store_cv_values=False)"
      ]
     },
     "execution_count": 567,
     "metadata": {},
     "output_type": "execute_result"
    }
   ],
   "source": [
    "# on fait la validation croisée pour récupérer notre vrai valeur alpha ici égal à 0.005\n",
    "ridgecv = RidgeCV(alphas = alphas, scoring = 'neg_mean_squared_error', normalize = True)\n",
    "ridgecv.fit(X_train, y_train)\n",
    "# ridgecv.alpha_\n",
    "# le meilleur alpha à conserver est 3.0679536367065814"
   ]
  },
  {
   "cell_type": "code",
   "execution_count": 568,
   "metadata": {},
   "outputs": [
    {
     "name": "stdout",
     "output_type": "stream",
     "text": [
      "---------------------------\n",
      "MSE est :  17.17493876174268\n"
     ]
    }
   ],
   "source": [
    "### Maintenant ridge avecc alphacv = 3.0679536367065814\n",
    "ridge4 = Ridge(alpha = ridgecv.alpha_, normalize = True)\n",
    "ridge4.fit(X_train, y_train)\n",
    "print(\"---------------------------\")\n",
    "pred = ridge4.predict(X_test)\n",
    "\n",
    "print(\"MSE est : \", mean_squared_error(y_test, pred))  # Comme notre valeur alpha est bonne l'erreur est petite et équivaut de 0.0005\n",
    "# c le modèle final de Ridge qui est retenu "
   ]
  },
  {
   "cell_type": "code",
   "execution_count": 569,
   "metadata": {},
   "outputs": [
    {
     "name": "stdout",
     "output_type": "stream",
     "text": [
      "r2 score =  0.09062169408001564\n"
     ]
    }
   ],
   "source": [
    "print('r2 score = ', r2_score(y_test, pred))  "
   ]
  },
  {
   "cell_type": "markdown",
   "metadata": {},
   "source": [
    "#### Partie entrainement  (supervisée):"
   ]
  },
  {
   "cell_type": "markdown",
   "metadata": {},
   "source": [
    "##### Avec modèle NN\n"
   ]
  },
  {
   "cell_type": "code",
   "execution_count": 570,
   "metadata": {},
   "outputs": [
    {
     "name": "stdout",
     "output_type": "stream",
     "text": [
      "Neural network model accuracy (discrete target variable) :\n",
      "Accuracy on training set : 0.62\n",
      "Accuracy on test set : 0.21\n"
     ]
    },
    {
     "name": "stderr",
     "output_type": "stream",
     "text": [
      "C:\\Users\\Formation\\Anaconda3\\lib\\site-packages\\sklearn\\neural_network\\multilayer_perceptron.py:566: ConvergenceWarning: Stochastic Optimizer: Maximum iterations (200) reached and the optimization hasn't converged yet.\n",
      "  % self.max_iter, ConvergenceWarning)\n"
     ]
    }
   ],
   "source": [
    "# Filling null values with 0\n",
    "data_table = data_table.fillna(0)\n",
    "\n",
    "# Splitting data for training and test set\n",
    "X, y = data_table.iloc[:,:33], data_table['Success score']\n",
    "X_train, X_test, y_train, y_test = train_test_split(X, y, test_size=0.33, random_state=0)\n",
    "\n",
    "# Choosing MLP classifier for NN\n",
    "mlp = MLPClassifier(random_state=42)\n",
    "mlp.fit(X_train, y_train)\n",
    "\n",
    "print(\"Neural network model accuracy (discrete target variable) :\")\n",
    "print(\"Accuracy on training set : {:.2f}\".format(mlp.score(X_train, y_train)))\n",
    "print(\"Accuracy on test set : {:.2f}\".format(mlp.score(X_test, y_test)))"
   ]
  },
  {
   "cell_type": "code",
   "execution_count": null,
   "metadata": {},
   "outputs": [],
   "source": []
  },
  {
   "cell_type": "markdown",
   "metadata": {},
   "source": [
    "##### Réentrainement du modèle NN avec un changement de la variable cible \"Success score\" en variable booléenne"
   ]
  },
  {
   "cell_type": "code",
   "execution_count": 571,
   "metadata": {},
   "outputs": [
    {
     "name": "stdout",
     "output_type": "stream",
     "text": [
      "Neural network model accuracy (boolean target variable) :\n",
      "Accuracy on training set : 0.65\n",
      "Accuracy on test set : 0.66\n"
     ]
    }
   ],
   "source": [
    "# If 'Success score' >=9, y=1, y=0 otherwise. \n",
    "yb = [0 if(i<9) else 1 for i in y]\n",
    "\n",
    "X_train, X_test, y_train, y_test = train_test_split(X, yb, test_size=0.33, random_state=0)\n",
    "\n",
    "mlp = MLPClassifier(random_state=42)\n",
    "mlp.fit(X_train, y_train)\n",
    "\n",
    "print(\"Neural network model accuracy (boolean target variable) :\")\n",
    "print(\"Accuracy on training set : {:.2f}\".format(mlp.score(X_train, y_train)))\n",
    "print(\"Accuracy on test set : {:.2f}\".format(mlp.score(X_test, y_test)))"
   ]
  },
  {
   "cell_type": "markdown",
   "metadata": {},
   "source": [
    "On peut voir que les résultats sont meilleurs avec une variable boolénenne comme cible."
   ]
  },
  {
   "cell_type": "markdown",
   "metadata": {},
   "source": [
    "##### Avec modèle arbre de décision"
   ]
  },
  {
   "cell_type": "code",
   "execution_count": 572,
   "metadata": {},
   "outputs": [
    {
     "name": "stdout",
     "output_type": "stream",
     "text": [
      "Decision tree model accuracy :\n",
      "Accuracy on training set : 1.000\n",
      "Accuracy on test set : 0.618\n"
     ]
    }
   ],
   "source": [
    "tree = DecisionTreeClassifier(random_state=0)\n",
    "tree.fit(X_train, y_train)\n",
    "\n",
    "print(\"Decision tree model accuracy :\")\n",
    "print(\"Accuracy on training set : {:.3f}\".format(tree.score(X_train, y_train)))\n",
    "print(\"Accuracy on test set : {:.3f}\".format(tree.score(X_test, y_test)))"
   ]
  },
  {
   "cell_type": "markdown",
   "metadata": {},
   "source": [
    "Meilleurs résultats qu'avec un modèle NN."
   ]
  },
  {
   "cell_type": "markdown",
   "metadata": {},
   "source": [
    "##### Avec modèle arbre de décision : Feature importance "
   ]
  },
  {
   "cell_type": "code",
   "execution_count": 573,
   "metadata": {},
   "outputs": [
    {
     "name": "stdout",
     "output_type": "stream",
     "text": [
      "Feature importances:\n",
      "[0.0275974  0.         0.02761844 0.20543951 0.         0.\n",
      " 0.01609848 0.         0.08543771 0.         0.         0.\n",
      " 0.         0.         0.         0.07214441 0.07317493 0.\n",
      " 0.         0.         0.         0.         0.         0.08341785\n",
      " 0.12965585 0.04513889 0.         0.         0.         0.03219697\n",
      " 0.03577441 0.07991653 0.08638861]\n"
     ]
    }
   ],
   "source": [
    "print(\"Feature importances:\\n{}\".format(tree.feature_importances_))"
   ]
  },
  {
   "cell_type": "code",
   "execution_count": null,
   "metadata": {},
   "outputs": [],
   "source": []
  },
  {
   "cell_type": "code",
   "execution_count": 574,
   "metadata": {},
   "outputs": [
    {
     "data": {
      "image/png": "[encoded data removed]",
      "text/plain": [
       "<Figure size 864x720 with 1 Axes>"
      ]
     },
     "metadata": {
      "needs_background": "light"
     },
     "output_type": "display_data"
    }
   ],
   "source": [
    "# Initialize the matplotlib figure\n",
    "f, ax = plt.subplots(figsize=(12, 10))\n",
    "\n",
    "# Plot \n",
    "sns.set_color_codes(\"muted\")\n",
    "sns.barplot(x= tree.feature_importances_, y = data_table.columns[:33])\n",
    "\n",
    "# Add a legend and informative axis label\n",
    "ax.set(xlim=(0, 0.3), ylabel=\"Feature\", xlabel=\"Feature importance\")\n",
    "sns.despine(left=True, bottom=True)"
   ]
  },
  {
   "cell_type": "markdown",
   "metadata": {},
   "source": [
    "#### Avec modèle Random forest : "
   ]
  },
  {
   "cell_type": "code",
   "execution_count": 575,
   "metadata": {},
   "outputs": [
    {
     "name": "stdout",
     "output_type": "stream",
     "text": [
      "Random forest model accuracy :\n",
      "Accuracy on training set : 1.000\n",
      "Accuracy on test set : 0.706\n"
     ]
    }
   ],
   "source": [
    "forest = RandomForestClassifier(n_estimators=100, random_state=0)\n",
    "forest.fit(X_train, y_train)\n",
    "\n",
    "print(\"Random forest model accuracy :\")\n",
    "print(\"Accuracy on training set : {:.3f}\".format(forest.score(X_train, y_train)))\n",
    "print(\"Accuracy on test set : {:.3f}\".format(forest.score(X_test, y_test)))"
   ]
  },
  {
   "cell_type": "markdown",
   "metadata": {},
   "source": [
    "## Conclusion"
   ]
  },
  {
   "cell_type": "markdown",
   "metadata": {},
   "source": [
    "Notre étude nous a ramené à conclure que le meilleur modèle pour prédire q'une santion sera un succès ou un échec est la \n",
    "méthode avec un modèle Random Forest.\n",
    "\n",
    "Les caractéristiques qui influent sur le succès ou l'échèc d'une sanction sont : Prior_relations, Cost_to_target, Sanction_type, Inflation%3years_average, Cost_to_sender."
   ]
  },
  {
   "cell_type": "code",
   "execution_count": null,
   "metadata": {},
   "outputs": [],
   "source": []
  }
 ],
 "metadata": {
  "celltoolbar": "Format de la Cellule Texte Brut",
  "hide_input": false,
  "kernelspec": {
   "display_name": "Python 3",
   "language": "python",
   "name": "python3"
  },
  "language_info": {
   "codemirror_mode": {
    "name": "ipython",
    "version": 3
   },
   "file_extension": ".py",
   "mimetype": "text/x-python",
   "name": "python",
   "nbconvert_exporter": "python",
   "pygments_lexer": "ipython3",
   "version": "3.7.7"
  },
  "varInspector": {
   "cols": {
    "lenName": 16,
    "lenType": 16,
    "lenVar": 40
   },
   "kernels_config": {
    "python": {
     "delete_cmd_postfix": "",
     "delete_cmd_prefix": "del ",
     "library": "var_list.py",
     "varRefreshCmd": "print(var_dic_list())"
    },
    "r": {
     "delete_cmd_postfix": ") ",
     "delete_cmd_prefix": "rm(",
     "library": "var_list.r",
     "varRefreshCmd": "cat(var_dic_list()) "
    }
   },
   "types_to_exclude": [
    "module",
    "function",
    "builtin_function_or_method",
    "instance",
    "_Feature"
   ],
   "window_display": false
  }
 },
 "nbformat": 4,
 "nbformat_minor": 4
}
