{
 "cells": [
  {
   "cell_type": "code",
   "execution_count": 89,
   "metadata": {},
   "outputs": [],
   "source": [
    "import pandas as pd\n",
    "import numpy as np\n",
    "from sklearn.impute import SimpleImputer\n",
    "\n",
    "pd.set_option('display.max_rows', 500)\n",
    "pd.set_option('display.max_columns', 500)\n",
    "pd.set_option('display.width', 1000)"
   ]
  },
  {
   "cell_type": "markdown",
   "metadata": {},
   "source": [
    "## Import dataset avec exclusion header & footer"
   ]
  },
  {
   "cell_type": "code",
   "execution_count": 90,
   "metadata": {},
   "outputs": [],
   "source": [
    "df = pd.read_excel('DATABASE.xls', index_col=0, skiprows=[0,1,2], skipfooter=42)  "
   ]
  },
  {
   "cell_type": "markdown",
   "metadata": {},
   "source": [
    "## Renommage colonnes"
   ]
  },
  {
   "cell_type": "code",
   "execution_count": 91,
   "metadata": {},
   "outputs": [],
   "source": [
    "# Rename columns\n",
    "df = df.rename(columns={'Sender c': 'Sender1', \n",
    "                        'Sender 2c': 'Sender2', \n",
    "                        'Sender 3c': 'Sender3', \n",
    "                        'Targetd': 'Target',\n",
    "                        'US casee': 'US_case', \n",
    "                        'US unilateral casef': 'US_unilateral_case', \n",
    "                        'Foreign policy goal categoryg': 'Goal_categ', \n",
    "                        'First yearh': 'First_year',\n",
    "                        'Last yeari': 'Last_year', \n",
    "                        'Policy resultj': 'Policy_result', \n",
    "                        'Sanctions contributionk': 'Sanctions_contrib',\n",
    "                        'Success \\nscorel': 'Success_score', \n",
    "                        'Companion policiesm': 'Comp_policies', \n",
    "                        'International cooperationn':'Int_coop', \n",
    "                        'International assistanceo': 'Int_assistance', \n",
    "                        'Cooperating international organizationp': 'Coop_int_org',\n",
    "                        'International organization senderq': 'Int_org_sender', \n",
    "                        'International organization sender & target membersr': 'Int_org_sender_&_target_members', \n",
    "                        'Length (years)s': 'Length_years',\n",
    "                        'Prior relationst': 'Prior_relations', \n",
    "                        'Regime Type \\n(DEMOC 1st year)u': 'Regime_type', \n",
    "                        'Regime Type2 (Polity2 1st year)v': 'Regime_type2', \n",
    "                        'Regime Type3 \\n(Scale 1st year)w': 'Regime_type3',\n",
    "                        'Political stability priorx': 'Political_stability_prior', \n",
    "                        'Political stability duringy': 'Political_stability_during',\n",
    "                        'Cost to targetz': 'Cost_to_target', \n",
    "                        'Cost to target (percent of GNP)aa': 'Cost_to_target_%GNP',\n",
    "                        'Cost to target per capitabb': 'Cost_to_target_per_capita', \n",
    "                        'Trade linkagecc': 'Trade_linkage', \n",
    "                        'GNP \\nratiodd': 'GNP_ratio',\n",
    "                        'Health and stabilityee': 'Health_&_stability', \n",
    "                        'Sanction typeff': 'Sanction_type', \n",
    "                        'Cost to sendergg': 'Cost_to_sender',\n",
    "                        'GDP growth (percent, 5-year average)hh': 'GDP_growth%5years_average', \n",
    "                        'Inflation (percent,\\n 3-year average)ii':'Inflation%3years_average', \n",
    "                        'Target International Monetary Fund codejj': 'Target_int_monetary_code', \n",
    "                        'Country groupkk': 'Country_group'\n",
    "                       })\n",
    "# rename index\n",
    "df.index.names = ['id_case']"
   ]
  },
  {
   "cell_type": "code",
   "execution_count": 92,
   "metadata": {},
   "outputs": [
    {
     "data": {
      "text/plain": [
       "['Sender1',\n",
       " 'Sender2',\n",
       " 'Sender3',\n",
       " 'Target',\n",
       " 'Goal',\n",
       " 'Last_year',\n",
       " 'Comp_policies',\n",
       " 'Int_assistance',\n",
       " 'Coop_int_org',\n",
       " 'Regime_type',\n",
       " 'Regime_type2',\n",
       " 'Regime_type3',\n",
       " 'Political_stability_prior',\n",
       " 'Political_stability_during',\n",
       " 'Cost_to_target',\n",
       " 'Cost_to_target_%GNP',\n",
       " 'Cost_to_target_per_capita',\n",
       " 'Trade_linkage',\n",
       " 'Sanction_type',\n",
       " 'GDP_growth%5years_average',\n",
       " 'Inflation%3years_average',\n",
       " 'Target_int_monetary_code']"
      ]
     },
     "execution_count": 92,
     "metadata": {},
     "output_type": "execute_result"
    }
   ],
   "source": [
    "#  list categ variables\n",
    "list(df.select_dtypes(include=['object']).columns)"
   ]
  },
  {
   "cell_type": "code",
   "execution_count": 93,
   "metadata": {},
   "outputs": [
    {
     "data": {
      "text/plain": [
       "['US_case',\n",
       " 'US_unilateral_case',\n",
       " 'Goal_categ',\n",
       " 'First_year',\n",
       " 'Policy_result',\n",
       " 'Sanctions_contrib',\n",
       " 'Success_score',\n",
       " 'Int_coop',\n",
       " 'Int_org_sender',\n",
       " 'Int_org_sender_&_target_members',\n",
       " 'Length_years',\n",
       " 'Prior_relations',\n",
       " 'GNP_ratio',\n",
       " 'Health_&_stability',\n",
       " 'Cost_to_sender',\n",
       " 'Country_group']"
      ]
     },
     "execution_count": 93,
     "metadata": {},
     "output_type": "execute_result"
    }
   ],
   "source": [
    "#  list quantiv variables\n",
    "# df_quant = df.select_dtypes(include=['int','float64'])\n",
    "list(df.select_dtypes(include=['int','float64']).columns)\n",
    "# df_quant.describe()"
   ]
  },
  {
   "cell_type": "markdown",
   "metadata": {},
   "source": [
    "## Valeurs manquantes"
   ]
  },
  {
   "cell_type": "code",
   "execution_count": 94,
   "metadata": {},
   "outputs": [],
   "source": [
    "# df.isna().sum()  "
   ]
  },
  {
   "cell_type": "markdown",
   "metadata": {},
   "source": [
    "## Modif values "
   ]
  },
  {
   "cell_type": "markdown",
   "metadata": {},
   "source": [
    "Colonnes \n",
    "- \"Cost to target\", \n",
    "- \"Cost to target (percent of GNP)\"\n",
    "- \"Cost to target per capita\":   \n",
    "remplacement des '--' en 0 et après converion en numérique"
   ]
  },
  {
   "cell_type": "code",
   "execution_count": 77,
   "metadata": {},
   "outputs": [
    {
     "data": {
      "text/html": [
       "<div>\n",
       "<style scoped>\n",
       "    .dataframe tbody tr th:only-of-type {\n",
       "        vertical-align: middle;\n",
       "    }\n",
       "\n",
       "    .dataframe tbody tr th {\n",
       "        vertical-align: top;\n",
       "    }\n",
       "\n",
       "    .dataframe thead th {\n",
       "        text-align: right;\n",
       "    }\n",
       "</style>\n",
       "<table border=\"1\" class=\"dataframe\">\n",
       "  <thead>\n",
       "    <tr style=\"text-align: right;\">\n",
       "      <th></th>\n",
       "      <th>Cost_to_target_%GNP</th>\n",
       "      <th>Cost_to_target</th>\n",
       "      <th>Cost_to_target_per_capita</th>\n",
       "    </tr>\n",
       "    <tr>\n",
       "      <th>id_case</th>\n",
       "      <th></th>\n",
       "      <th></th>\n",
       "      <th></th>\n",
       "    </tr>\n",
       "  </thead>\n",
       "  <tbody>\n",
       "    <tr>\n",
       "      <th>14-1</th>\n",
       "      <td>7.1</td>\n",
       "      <td>843</td>\n",
       "      <td>12.58</td>\n",
       "    </tr>\n",
       "    <tr>\n",
       "      <th>17-1</th>\n",
       "      <td>0.8</td>\n",
       "      <td>23</td>\n",
       "      <td>0.44</td>\n",
       "    </tr>\n",
       "    <tr>\n",
       "      <th>18-1</th>\n",
       "      <td>4.1</td>\n",
       "      <td>446</td>\n",
       "      <td>2.49</td>\n",
       "    </tr>\n",
       "    <tr>\n",
       "      <th>21-1</th>\n",
       "      <td>--</td>\n",
       "      <td>--</td>\n",
       "      <td>--</td>\n",
       "    </tr>\n",
       "    <tr>\n",
       "      <th>25-1</th>\n",
       "      <td>--</td>\n",
       "      <td>--</td>\n",
       "      <td>--</td>\n",
       "    </tr>\n",
       "  </tbody>\n",
       "</table>\n",
       "</div>"
      ],
      "text/plain": [
       "        Cost_to_target_%GNP Cost_to_target Cost_to_target_per_capita\n",
       "id_case                                                             \n",
       "14-1                    7.1            843                     12.58\n",
       "17-1                    0.8             23                      0.44\n",
       "18-1                    4.1            446                      2.49\n",
       "21-1                     --             --                        --\n",
       "25-1                     --             --                        --"
      ]
     },
     "execution_count": 77,
     "metadata": {},
     "output_type": "execute_result"
    }
   ],
   "source": [
    "df[['Cost_to_target_%GNP', 'Cost_to_target', 'Cost_to_target_per_capita']].head()"
   ]
  },
  {
   "cell_type": "code",
   "execution_count": 86,
   "metadata": {},
   "outputs": [],
   "source": [
    "df['Cost_to_target_%GNP'] = df['Cost_to_target_%GNP'].astype('str')\n",
    "df['Cost_to_target_%GNP'] = df['Cost_to_target_%GNP'].str.replace('--', '0')\n",
    "df['Cost_to_target_%GNP'] = pd.to_numeric(df['Cost_to_target_%GNP'])\n",
    "\n",
    "df['Cost_to_target'] = df['Cost_to_target'].astype('str')\n",
    "df['Cost_to_target'] = df['Cost_to_target'].str.replace('--', '0')\n",
    "df['Cost_to_target'] = pd.to_numeric(df['Cost_to_target'])\n",
    "\n",
    "df['Cost_to_target_per_capita'] = df['Cost_to_target_per_capita'].astype('str')\n",
    "df['Cost_to_target_per_capita'] = df['Cost_to_target_per_capita'].str.replace('--', '0')\n",
    "df['Cost_to_target_per_capita'] = pd.to_numeric(df['Cost_to_target_per_capita'])"
   ]
  },
  {
   "cell_type": "code",
   "execution_count": 87,
   "metadata": {},
   "outputs": [
    {
     "data": {
      "text/html": [
       "<div>\n",
       "<style scoped>\n",
       "    .dataframe tbody tr th:only-of-type {\n",
       "        vertical-align: middle;\n",
       "    }\n",
       "\n",
       "    .dataframe tbody tr th {\n",
       "        vertical-align: top;\n",
       "    }\n",
       "\n",
       "    .dataframe thead th {\n",
       "        text-align: right;\n",
       "    }\n",
       "</style>\n",
       "<table border=\"1\" class=\"dataframe\">\n",
       "  <thead>\n",
       "    <tr style=\"text-align: right;\">\n",
       "      <th></th>\n",
       "      <th>Cost_to_target_%GNP</th>\n",
       "      <th>Cost_to_target</th>\n",
       "      <th>Cost_to_target_per_capita</th>\n",
       "    </tr>\n",
       "    <tr>\n",
       "      <th>id_case</th>\n",
       "      <th></th>\n",
       "      <th></th>\n",
       "      <th></th>\n",
       "    </tr>\n",
       "  </thead>\n",
       "  <tbody>\n",
       "    <tr>\n",
       "      <th>14-1</th>\n",
       "      <td>7.1</td>\n",
       "      <td>843</td>\n",
       "      <td>12.58</td>\n",
       "    </tr>\n",
       "    <tr>\n",
       "      <th>17-1</th>\n",
       "      <td>0.8</td>\n",
       "      <td>23</td>\n",
       "      <td>0.44</td>\n",
       "    </tr>\n",
       "    <tr>\n",
       "      <th>18-1</th>\n",
       "      <td>4.1</td>\n",
       "      <td>446</td>\n",
       "      <td>2.49</td>\n",
       "    </tr>\n",
       "    <tr>\n",
       "      <th>21-1</th>\n",
       "      <td>0</td>\n",
       "      <td>0</td>\n",
       "      <td>0.00</td>\n",
       "    </tr>\n",
       "    <tr>\n",
       "      <th>25-1</th>\n",
       "      <td>0</td>\n",
       "      <td>0</td>\n",
       "      <td>0.00</td>\n",
       "    </tr>\n",
       "  </tbody>\n",
       "</table>\n",
       "</div>"
      ],
      "text/plain": [
       "        Cost_to_target_%GNP Cost_to_target  Cost_to_target_per_capita\n",
       "id_case                                                              \n",
       "14-1                    7.1            843                      12.58\n",
       "17-1                    0.8             23                       0.44\n",
       "18-1                    4.1            446                       2.49\n",
       "21-1                      0              0                       0.00\n",
       "25-1                      0              0                       0.00"
      ]
     },
     "execution_count": 87,
     "metadata": {},
     "output_type": "execute_result"
    }
   ],
   "source": [
    "df[['Cost_to_target_%GNP', 'Cost_to_target', 'Cost_to_target_per_capita']].head()"
   ]
  },
  {
   "cell_type": "code",
   "execution_count": 88,
   "metadata": {},
   "outputs": [
    {
     "data": {
      "text/plain": [
       "Cost_to_target_%GNP           object\n",
       "Cost_to_target                object\n",
       "Cost_to_target_per_capita    float64\n",
       "dtype: object"
      ]
     },
     "execution_count": 88,
     "metadata": {},
     "output_type": "execute_result"
    }
   ],
   "source": [
    "df[['Cost_to_target_%GNP', 'Cost_to_target', 'Cost_to_target_per_capita']].dtypes"
   ]
  },
  {
   "cell_type": "code",
   "execution_count": null,
   "metadata": {},
   "outputs": [],
   "source": []
  },
  {
   "cell_type": "code",
   "execution_count": null,
   "metadata": {},
   "outputs": [],
   "source": []
  }
 ],
 "metadata": {
  "kernelspec": {
   "display_name": "Python 3",
   "language": "python",
   "name": "python3"
  },
  "language_info": {
   "codemirror_mode": {
    "name": "ipython",
    "version": 3
   },
   "file_extension": ".py",
   "mimetype": "text/x-python",
   "name": "python",
   "nbconvert_exporter": "python",
   "pygments_lexer": "ipython3",
   "version": "3.7.7"
  }
 },
 "nbformat": 4,
 "nbformat_minor": 4
}
