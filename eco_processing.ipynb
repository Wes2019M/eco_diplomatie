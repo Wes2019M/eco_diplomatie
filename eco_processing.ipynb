{
 "cells": [
  {
   "cell_type": "code",
   "execution_count": 31,
   "metadata": {},
   "outputs": [],
   "source": [
    "import pandas as pd\n",
    "import numpy as np\n",
    "from sklearn.impute import SimpleImputer\n",
    "\n",
    "pd.set_option('display.max_rows', 500)\n",
    "pd.set_option('display.max_columns', 500)\n",
    "pd.set_option('display.width', 1000)"
   ]
  },
  {
   "cell_type": "code",
   "execution_count": 32,
   "metadata": {},
   "outputs": [
    {
     "data": {
      "text/plain": [
       "'C:\\\\Users\\\\Formation\\\\Desktop\\\\Remote working\\\\Remote training\\\\S18\\\\eco_diplomatie\\\\eco_diplomatie'"
      ]
     },
     "execution_count": 32,
     "metadata": {},
     "output_type": "execute_result"
    }
   ],
   "source": [
    "pwd"
   ]
  },
  {
   "cell_type": "markdown",
   "metadata": {},
   "source": [
    "## Import dataset avec exclusion header & footer"
   ]
  },
  {
   "cell_type": "code",
   "execution_count": 33,
   "metadata": {},
   "outputs": [],
   "source": [
    "df = pd.read_excel('../../data/DATABASE.xls', index_col=0, skiprows=[0,1,2], skipfooter=42)  "
   ]
  },
  {
   "cell_type": "markdown",
   "metadata": {},
   "source": [
    "## Renommage colonnes"
   ]
  },
  {
   "cell_type": "code",
   "execution_count": 34,
   "metadata": {},
   "outputs": [],
   "source": [
    "# Rename columns\n",
    "df = df.rename(columns={'Sender c': 'Sender1', \n",
    "                        'Sender 2c': 'Sender2', \n",
    "                        'Sender 3c': 'Sender3', \n",
    "                        'Targetd': 'Target',\n",
    "                        'US casee': 'US_case', \n",
    "                        'US unilateral casef': 'US_unilateral_case', \n",
    "                        'Foreign policy goal categoryg': 'Goal_categ', \n",
    "                        'First yearh': 'First_year',\n",
    "                        'Last yeari': 'Last_year', \n",
    "                        'Policy resultj': 'Policy_result', \n",
    "                        'Sanctions contributionk': 'Sanctions_contrib',\n",
    "                        'Success \\nscorel': 'Success_score', \n",
    "                        'Companion policiesm': 'Comp_policies', \n",
    "                        'International cooperationn':'Int_coop', \n",
    "                        'International assistanceo': 'Int_assistance', \n",
    "                        'Cooperating international organizationp': 'Coop_int_org',\n",
    "                        'International organization senderq': 'Int_org_sender', \n",
    "                        'International organization sender & target membersr': 'Int_org_sender_&_target_members', \n",
    "                        'Length (years)s': 'Length_years',\n",
    "                        'Prior relationst': 'Prior_relations', \n",
    "                        'Regime Type \\n(DEMOC 1st year)u': 'Regime_type', \n",
    "                        'Regime Type2 (Polity2 1st year)v': 'Regime_type2', \n",
    "                        'Regime Type3 \\n(Scale 1st year)w': 'Regime_type3',\n",
    "                        'Political stability priorx': 'Political_stability_prior', \n",
    "                        'Political stability duringy': 'Political_stability_during',\n",
    "                        'Cost to targetz': 'Cost_to_target', \n",
    "                        'Cost to target (percent of GNP)aa': 'Cost_to_target_%GNP',\n",
    "                        'Cost to target per capitabb': 'Cost_to_target_per_capita', \n",
    "                        'Trade linkagecc': 'Trade_linkage', \n",
    "                        'GNP \\nratiodd': 'GNP_ratio',\n",
    "                        'Health and stabilityee': 'Health_&_stability', \n",
    "                        'Sanction typeff': 'Sanction_type', \n",
    "                        'Cost to sendergg': 'Cost_to_sender',\n",
    "                        'GDP growth (percent, 5-year average)hh': 'GDP_growth%5years_average', \n",
    "                        'Inflation (percent,\\n 3-year average)ii':'Inflation%3years_average', \n",
    "                        'Target International Monetary Fund codejj': 'Target_int_monetary_code', \n",
    "                        'Country groupkk': 'Country_group'\n",
    "                       })\n",
    "# rename index\n",
    "df.index.names = ['id_case']"
   ]
  },
  {
   "cell_type": "code",
   "execution_count": 35,
   "metadata": {},
   "outputs": [
    {
     "data": {
      "text/plain": [
       "['Sender1',\n",
       " 'Sender2',\n",
       " 'Sender3',\n",
       " 'Target',\n",
       " 'Goal',\n",
       " 'Last_year',\n",
       " 'Comp_policies',\n",
       " 'Int_assistance',\n",
       " 'Coop_int_org',\n",
       " 'Regime_type',\n",
       " 'Regime_type2',\n",
       " 'Regime_type3',\n",
       " 'Political_stability_prior',\n",
       " 'Political_stability_during',\n",
       " 'Cost_to_target',\n",
       " 'Cost_to_target_%GNP',\n",
       " 'Cost_to_target_per_capita',\n",
       " 'Trade_linkage',\n",
       " 'Sanction_type',\n",
       " 'GDP_growth%5years_average',\n",
       " 'Inflation%3years_average',\n",
       " 'Target_int_monetary_code']"
      ]
     },
     "execution_count": 35,
     "metadata": {},
     "output_type": "execute_result"
    }
   ],
   "source": [
    "#  list categ variables\n",
    "list(df.select_dtypes(include=['object']).columns)"
   ]
  },
  {
   "cell_type": "code",
   "execution_count": 36,
   "metadata": {},
   "outputs": [
    {
     "data": {
      "text/plain": [
       "['GNP_ratio']"
      ]
     },
     "execution_count": 36,
     "metadata": {},
     "output_type": "execute_result"
    }
   ],
   "source": [
    "#  list quantiv variables\n",
    "# df_quant = df.select_dtypes(include=['int','float64'])\n",
    "list(df.select_dtypes(include=['int','float64']).columns)\n",
    "# df_quant.describe()"
   ]
  },
  {
   "cell_type": "markdown",
   "metadata": {},
   "source": [
    "## Valeurs manquantes"
   ]
  },
  {
   "cell_type": "code",
   "execution_count": 37,
   "metadata": {},
   "outputs": [],
   "source": [
    "# df.isna().sum()  "
   ]
  },
  {
   "cell_type": "markdown",
   "metadata": {},
   "source": [
    "### Colones Cost to target - Cost to target (percent of GNP) - Cost to target per capita   \n",
    "Remplacement des '--' en 0 et après converion en numérique"
   ]
  },
  {
   "cell_type": "code",
   "execution_count": 38,
   "metadata": {},
   "outputs": [
    {
     "data": {
      "text/html": [
       "<div>\n",
       "<style scoped>\n",
       "    .dataframe tbody tr th:only-of-type {\n",
       "        vertical-align: middle;\n",
       "    }\n",
       "\n",
       "    .dataframe tbody tr th {\n",
       "        vertical-align: top;\n",
       "    }\n",
       "\n",
       "    .dataframe thead th {\n",
       "        text-align: right;\n",
       "    }\n",
       "</style>\n",
       "<table border=\"1\" class=\"dataframe\">\n",
       "  <thead>\n",
       "    <tr style=\"text-align: right;\">\n",
       "      <th></th>\n",
       "      <th>Cost_to_target_%GNP</th>\n",
       "      <th>Cost_to_target</th>\n",
       "      <th>Cost_to_target_per_capita</th>\n",
       "    </tr>\n",
       "    <tr>\n",
       "      <th>id_case</th>\n",
       "      <th></th>\n",
       "      <th></th>\n",
       "      <th></th>\n",
       "    </tr>\n",
       "  </thead>\n",
       "  <tbody>\n",
       "    <tr>\n",
       "      <th>14-1</th>\n",
       "      <td>7.1</td>\n",
       "      <td>843</td>\n",
       "      <td>12.58</td>\n",
       "    </tr>\n",
       "    <tr>\n",
       "      <th>17-1</th>\n",
       "      <td>0.8</td>\n",
       "      <td>23</td>\n",
       "      <td>0.44</td>\n",
       "    </tr>\n",
       "    <tr>\n",
       "      <th>18-1</th>\n",
       "      <td>4.1</td>\n",
       "      <td>446</td>\n",
       "      <td>2.49</td>\n",
       "    </tr>\n",
       "    <tr>\n",
       "      <th>21-1</th>\n",
       "      <td>--</td>\n",
       "      <td>--</td>\n",
       "      <td>--</td>\n",
       "    </tr>\n",
       "    <tr>\n",
       "      <th>25-1</th>\n",
       "      <td>--</td>\n",
       "      <td>--</td>\n",
       "      <td>--</td>\n",
       "    </tr>\n",
       "  </tbody>\n",
       "</table>\n",
       "</div>"
      ],
      "text/plain": [
       "        Cost_to_target_%GNP Cost_to_target Cost_to_target_per_capita\n",
       "id_case                                                             \n",
       "14-1                    7.1            843                     12.58\n",
       "17-1                    0.8             23                      0.44\n",
       "18-1                    4.1            446                      2.49\n",
       "21-1                     --             --                        --\n",
       "25-1                     --             --                        --"
      ]
     },
     "execution_count": 38,
     "metadata": {},
     "output_type": "execute_result"
    }
   ],
   "source": [
    "df[['Cost_to_target_%GNP', 'Cost_to_target', 'Cost_to_target_per_capita']].head()"
   ]
  },
  {
   "cell_type": "code",
   "execution_count": 39,
   "metadata": {},
   "outputs": [],
   "source": [
    "df['Cost_to_target_%GNP'] = df['Cost_to_target_%GNP'].astype('str')\n",
    "df['Cost_to_target_%GNP'] = df['Cost_to_target_%GNP'].str.replace('--', '0')\n",
    "df['Cost_to_target_%GNP'] = pd.to_numeric(df['Cost_to_target_%GNP'])\n",
    "\n",
    "df['Cost_to_target'] = df['Cost_to_target'].astype('str')\n",
    "df['Cost_to_target'] = df['Cost_to_target'].str.replace('--', '0')\n",
    "df['Cost_to_target'] = pd.to_numeric(df['Cost_to_target'])\n",
    "\n",
    "df['Cost_to_target_per_capita'] = df['Cost_to_target_per_capita'].astype('str')\n",
    "df['Cost_to_target_per_capita'] = df['Cost_to_target_per_capita'].str.replace('--', '0')\n",
    "df['Cost_to_target_per_capita'] = pd.to_numeric(df['Cost_to_target_per_capita'])"
   ]
  },
  {
   "cell_type": "code",
   "execution_count": 40,
   "metadata": {},
   "outputs": [
    {
     "data": {
      "text/html": [
       "<div>\n",
       "<style scoped>\n",
       "    .dataframe tbody tr th:only-of-type {\n",
       "        vertical-align: middle;\n",
       "    }\n",
       "\n",
       "    .dataframe tbody tr th {\n",
       "        vertical-align: top;\n",
       "    }\n",
       "\n",
       "    .dataframe thead th {\n",
       "        text-align: right;\n",
       "    }\n",
       "</style>\n",
       "<table border=\"1\" class=\"dataframe\">\n",
       "  <thead>\n",
       "    <tr style=\"text-align: right;\">\n",
       "      <th></th>\n",
       "      <th>Cost_to_target_%GNP</th>\n",
       "      <th>Cost_to_target</th>\n",
       "      <th>Cost_to_target_per_capita</th>\n",
       "    </tr>\n",
       "    <tr>\n",
       "      <th>id_case</th>\n",
       "      <th></th>\n",
       "      <th></th>\n",
       "      <th></th>\n",
       "    </tr>\n",
       "  </thead>\n",
       "  <tbody>\n",
       "    <tr>\n",
       "      <th>14-1</th>\n",
       "      <td>7.1</td>\n",
       "      <td>843.0</td>\n",
       "      <td>12.58</td>\n",
       "    </tr>\n",
       "    <tr>\n",
       "      <th>17-1</th>\n",
       "      <td>0.8</td>\n",
       "      <td>23.0</td>\n",
       "      <td>0.44</td>\n",
       "    </tr>\n",
       "    <tr>\n",
       "      <th>18-1</th>\n",
       "      <td>4.1</td>\n",
       "      <td>446.0</td>\n",
       "      <td>2.49</td>\n",
       "    </tr>\n",
       "    <tr>\n",
       "      <th>21-1</th>\n",
       "      <td>0.0</td>\n",
       "      <td>0.0</td>\n",
       "      <td>0.00</td>\n",
       "    </tr>\n",
       "    <tr>\n",
       "      <th>25-1</th>\n",
       "      <td>0.0</td>\n",
       "      <td>0.0</td>\n",
       "      <td>0.00</td>\n",
       "    </tr>\n",
       "  </tbody>\n",
       "</table>\n",
       "</div>"
      ],
      "text/plain": [
       "         Cost_to_target_%GNP  Cost_to_target  Cost_to_target_per_capita\n",
       "id_case                                                                \n",
       "14-1                     7.1           843.0                      12.58\n",
       "17-1                     0.8            23.0                       0.44\n",
       "18-1                     4.1           446.0                       2.49\n",
       "21-1                     0.0             0.0                       0.00\n",
       "25-1                     0.0             0.0                       0.00"
      ]
     },
     "execution_count": 40,
     "metadata": {},
     "output_type": "execute_result"
    }
   ],
   "source": [
    "df[['Cost_to_target_%GNP', 'Cost_to_target', 'Cost_to_target_per_capita']].head()"
   ]
  },
  {
   "cell_type": "code",
   "execution_count": 41,
   "metadata": {},
   "outputs": [
    {
     "data": {
      "text/plain": [
       "Cost_to_target_%GNP          float64\n",
       "Cost_to_target               float64\n",
       "Cost_to_target_per_capita    float64\n",
       "dtype: object"
      ]
     },
     "execution_count": 41,
     "metadata": {},
     "output_type": "execute_result"
    }
   ],
   "source": [
    "df[['Cost_to_target_%GNP', 'Cost_to_target', 'Cost_to_target_per_capita']].dtypes"
   ]
  },
  {
   "cell_type": "markdown",
   "metadata": {},
   "source": [
    "### Colonnes \"GDP growth (percent, 5-year average) \", \"Inflation\": - remplacement des n.a. par NaN"
   ]
  },
  {
   "cell_type": "code",
   "execution_count": 42,
   "metadata": {},
   "outputs": [
    {
     "data": {
      "text/plain": [
       "id_case\n",
       "14-1    3.58\n",
       "17-1    5.40\n",
       "18-1     NaN\n",
       "21-1   -1.50\n",
       "25-1    3.30\n",
       "Name: GDP_growth%5years_average, dtype: float64"
      ]
     },
     "execution_count": 42,
     "metadata": {},
     "output_type": "execute_result"
    }
   ],
   "source": [
    "df['GDP_growth%5years_average'] = df['GDP_growth%5years_average'].astype('str')\n",
    "df['GDP_growth%5years_average'] = df['GDP_growth%5years_average'].str.replace('n.a.', '')\n",
    "df['GDP_growth%5years_average'] = pd.to_numeric(df['GDP_growth%5years_average'])\n",
    "\n",
    "df['GDP_growth%5years_average'].head()\n",
    "# df['GDP_growth%5years_average'].dtypes\n",
    "# df['GDP_growth%5years_average'].isna().sum()"
   ]
  },
  {
   "cell_type": "markdown",
   "metadata": {},
   "source": [
    "### Colonne \"Comp_policies\"\n",
    "Suppression de la virgule  \n",
    "'--' restent tels quels"
   ]
  },
  {
   "cell_type": "code",
   "execution_count": 43,
   "metadata": {},
   "outputs": [
    {
     "data": {
      "text/plain": [
       "id_case\n",
       "14-1     R\n",
       "17-1    --\n",
       "18-1    RQ\n",
       "21-1    --\n",
       "25-1    --\n",
       "Name: Comp_policies, dtype: object"
      ]
     },
     "execution_count": 43,
     "metadata": {},
     "output_type": "execute_result"
    }
   ],
   "source": [
    "df['Comp_policies'] = df['Comp_policies'].str.replace(',', '')\n",
    "df['Comp_policies'].head()"
   ]
  },
  {
   "cell_type": "code",
   "execution_count": 44,
   "metadata": {},
   "outputs": [
    {
     "data": {
      "text/html": [
       "<div>\n",
       "<style scoped>\n",
       "    .dataframe tbody tr th:only-of-type {\n",
       "        vertical-align: middle;\n",
       "    }\n",
       "\n",
       "    .dataframe tbody tr th {\n",
       "        vertical-align: top;\n",
       "    }\n",
       "\n",
       "    .dataframe thead th {\n",
       "        text-align: right;\n",
       "    }\n",
       "</style>\n",
       "<table border=\"1\" class=\"dataframe\">\n",
       "  <thead>\n",
       "    <tr style=\"text-align: right;\">\n",
       "      <th></th>\n",
       "      <th>Sender1</th>\n",
       "      <th>Sender2</th>\n",
       "      <th>Sender3</th>\n",
       "      <th>Target</th>\n",
       "      <th>Goal</th>\n",
       "      <th>US_case</th>\n",
       "      <th>US_unilateral_case</th>\n",
       "      <th>Goal_categ</th>\n",
       "      <th>First_year</th>\n",
       "      <th>Last_year</th>\n",
       "      <th>Policy_result</th>\n",
       "      <th>Sanctions_contrib</th>\n",
       "      <th>Success_score</th>\n",
       "      <th>Comp_policies</th>\n",
       "      <th>Int_coop</th>\n",
       "      <th>Int_assistance</th>\n",
       "      <th>Coop_int_org</th>\n",
       "      <th>Int_org_sender</th>\n",
       "      <th>Int_org_sender_&amp;_target_members</th>\n",
       "      <th>Length_years</th>\n",
       "      <th>Prior_relations</th>\n",
       "      <th>Regime_type</th>\n",
       "      <th>Regime_type2</th>\n",
       "      <th>Regime_type3</th>\n",
       "      <th>Political_stability_prior</th>\n",
       "      <th>Political_stability_during</th>\n",
       "      <th>Cost_to_target</th>\n",
       "      <th>Cost_to_target_%GNP</th>\n",
       "      <th>Cost_to_target_per_capita</th>\n",
       "      <th>Trade_linkage</th>\n",
       "      <th>GNP_ratio</th>\n",
       "      <th>Health_&amp;_stability</th>\n",
       "      <th>Sanction_type</th>\n",
       "      <th>Cost_to_sender</th>\n",
       "      <th>GDP_growth%5years_average</th>\n",
       "      <th>Inflation%3years_average</th>\n",
       "      <th>Target_int_monetary_code</th>\n",
       "      <th>Country_group</th>\n",
       "    </tr>\n",
       "    <tr>\n",
       "      <th>id_case</th>\n",
       "      <th></th>\n",
       "      <th></th>\n",
       "      <th></th>\n",
       "      <th></th>\n",
       "      <th></th>\n",
       "      <th></th>\n",
       "      <th></th>\n",
       "      <th></th>\n",
       "      <th></th>\n",
       "      <th></th>\n",
       "      <th></th>\n",
       "      <th></th>\n",
       "      <th></th>\n",
       "      <th></th>\n",
       "      <th></th>\n",
       "      <th></th>\n",
       "      <th></th>\n",
       "      <th></th>\n",
       "      <th></th>\n",
       "      <th></th>\n",
       "      <th></th>\n",
       "      <th></th>\n",
       "      <th></th>\n",
       "      <th></th>\n",
       "      <th></th>\n",
       "      <th></th>\n",
       "      <th></th>\n",
       "      <th></th>\n",
       "      <th></th>\n",
       "      <th></th>\n",
       "      <th></th>\n",
       "      <th></th>\n",
       "      <th></th>\n",
       "      <th></th>\n",
       "      <th></th>\n",
       "      <th></th>\n",
       "      <th></th>\n",
       "      <th></th>\n",
       "    </tr>\n",
       "  </thead>\n",
       "  <tbody>\n",
       "    <tr>\n",
       "      <th>14-1</th>\n",
       "      <td>UNITED KINGDOM</td>\n",
       "      <td>NaN</td>\n",
       "      <td>NaN</td>\n",
       "      <td>GERMANY</td>\n",
       "      <td>Military victory</td>\n",
       "      <td>0</td>\n",
       "      <td>0</td>\n",
       "      <td>4</td>\n",
       "      <td>1914</td>\n",
       "      <td>1918</td>\n",
       "      <td>4</td>\n",
       "      <td>3</td>\n",
       "      <td>12</td>\n",
       "      <td>R</td>\n",
       "      <td>4</td>\n",
       "      <td>A</td>\n",
       "      <td>--</td>\n",
       "      <td>0</td>\n",
       "      <td>0</td>\n",
       "      <td>4</td>\n",
       "      <td>1</td>\n",
       "      <td>5</td>\n",
       "      <td>2</td>\n",
       "      <td>2</td>\n",
       "      <td>0</td>\n",
       "      <td>0</td>\n",
       "      <td>843.0</td>\n",
       "      <td>7.1</td>\n",
       "      <td>12.58</td>\n",
       "      <td>9</td>\n",
       "      <td>1.0</td>\n",
       "      <td>3</td>\n",
       "      <td>F,X,M</td>\n",
       "      <td>4</td>\n",
       "      <td>3.58</td>\n",
       "      <td>2.86667</td>\n",
       "      <td>134</td>\n",
       "      <td>1</td>\n",
       "    </tr>\n",
       "    <tr>\n",
       "      <th>17-1</th>\n",
       "      <td>UNITED STATES</td>\n",
       "      <td>NaN</td>\n",
       "      <td>NaN</td>\n",
       "      <td>JAPAN</td>\n",
       "      <td>Shipping for Allies</td>\n",
       "      <td>1</td>\n",
       "      <td>1</td>\n",
       "      <td>5</td>\n",
       "      <td>1917</td>\n",
       "      <td>1918</td>\n",
       "      <td>2</td>\n",
       "      <td>2</td>\n",
       "      <td>4</td>\n",
       "      <td>--</td>\n",
       "      <td>1</td>\n",
       "      <td>--</td>\n",
       "      <td>--</td>\n",
       "      <td>0</td>\n",
       "      <td>0</td>\n",
       "      <td>1</td>\n",
       "      <td>2</td>\n",
       "      <td>5</td>\n",
       "      <td>1</td>\n",
       "      <td>2</td>\n",
       "      <td>0</td>\n",
       "      <td>0</td>\n",
       "      <td>23.0</td>\n",
       "      <td>0.8</td>\n",
       "      <td>0.44</td>\n",
       "      <td>20.5</td>\n",
       "      <td>13.0</td>\n",
       "      <td>3</td>\n",
       "      <td>X</td>\n",
       "      <td>2</td>\n",
       "      <td>5.40</td>\n",
       "      <td>25.6</td>\n",
       "      <td>158</td>\n",
       "      <td>1</td>\n",
       "    </tr>\n",
       "    <tr>\n",
       "      <th>18-1</th>\n",
       "      <td>UNITED KINGDOM</td>\n",
       "      <td>NaN</td>\n",
       "      <td>NaN</td>\n",
       "      <td>RUSSIA</td>\n",
       "      <td>Destabilize Bolsheviks</td>\n",
       "      <td>0</td>\n",
       "      <td>0</td>\n",
       "      <td>2</td>\n",
       "      <td>1918</td>\n",
       "      <td>1920</td>\n",
       "      <td>1</td>\n",
       "      <td>2</td>\n",
       "      <td>2</td>\n",
       "      <td>RQ</td>\n",
       "      <td>4</td>\n",
       "      <td>--</td>\n",
       "      <td>--</td>\n",
       "      <td>0</td>\n",
       "      <td>0</td>\n",
       "      <td>2</td>\n",
       "      <td>1</td>\n",
       "      <td>1</td>\n",
       "      <td>-1</td>\n",
       "      <td>2</td>\n",
       "      <td>0.1</td>\n",
       "      <td>0</td>\n",
       "      <td>446.0</td>\n",
       "      <td>4.1</td>\n",
       "      <td>2.49</td>\n",
       "      <td>18.5</td>\n",
       "      <td>1.0</td>\n",
       "      <td>1</td>\n",
       "      <td>F,X,M</td>\n",
       "      <td>3</td>\n",
       "      <td>NaN</td>\n",
       "      <td>n.a.</td>\n",
       "      <td>922</td>\n",
       "      <td>2</td>\n",
       "    </tr>\n",
       "    <tr>\n",
       "      <th>21-1</th>\n",
       "      <td>LEAGUE OF NATIONS</td>\n",
       "      <td>NaN</td>\n",
       "      <td>NaN</td>\n",
       "      <td>YUGOSLAVIA</td>\n",
       "      <td>Military disruption vs. Albania</td>\n",
       "      <td>0</td>\n",
       "      <td>0</td>\n",
       "      <td>3</td>\n",
       "      <td>1921</td>\n",
       "      <td>1921</td>\n",
       "      <td>4</td>\n",
       "      <td>4</td>\n",
       "      <td>16</td>\n",
       "      <td>--</td>\n",
       "      <td>4</td>\n",
       "      <td>--</td>\n",
       "      <td>--</td>\n",
       "      <td>1</td>\n",
       "      <td>1</td>\n",
       "      <td>1</td>\n",
       "      <td>2</td>\n",
       "      <td>3</td>\n",
       "      <td>0</td>\n",
       "      <td>2</td>\n",
       "      <td>0.4</td>\n",
       "      <td>0</td>\n",
       "      <td>0.0</td>\n",
       "      <td>0.0</td>\n",
       "      <td>0.00</td>\n",
       "      <td>26.5</td>\n",
       "      <td>37.0</td>\n",
       "      <td>2</td>\n",
       "      <td>--</td>\n",
       "      <td>2</td>\n",
       "      <td>-1.50</td>\n",
       "      <td>n.a.</td>\n",
       "      <td>188</td>\n",
       "      <td>2</td>\n",
       "    </tr>\n",
       "    <tr>\n",
       "      <th>25-1</th>\n",
       "      <td>LEAGUE OF NATIONS</td>\n",
       "      <td>NaN</td>\n",
       "      <td>NaN</td>\n",
       "      <td>GREECE</td>\n",
       "      <td>Withdraw from Bulgaria</td>\n",
       "      <td>0</td>\n",
       "      <td>0</td>\n",
       "      <td>3</td>\n",
       "      <td>1925</td>\n",
       "      <td>1925</td>\n",
       "      <td>4</td>\n",
       "      <td>4</td>\n",
       "      <td>16</td>\n",
       "      <td>--</td>\n",
       "      <td>4</td>\n",
       "      <td>--</td>\n",
       "      <td>--</td>\n",
       "      <td>1</td>\n",
       "      <td>1</td>\n",
       "      <td>1</td>\n",
       "      <td>2</td>\n",
       "      <td>0</td>\n",
       "      <td>-6</td>\n",
       "      <td>1</td>\n",
       "      <td>0.9</td>\n",
       "      <td>0</td>\n",
       "      <td>0.0</td>\n",
       "      <td>0.0</td>\n",
       "      <td>0.00</td>\n",
       "      <td>36</td>\n",
       "      <td>56.0</td>\n",
       "      <td>2</td>\n",
       "      <td>--</td>\n",
       "      <td>2</td>\n",
       "      <td>3.30</td>\n",
       "      <td>48.8</td>\n",
       "      <td>174</td>\n",
       "      <td>1</td>\n",
       "    </tr>\n",
       "  </tbody>\n",
       "</table>\n",
       "</div>"
      ],
      "text/plain": [
       "                   Sender1 Sender2 Sender3      Target                             Goal  US_case  US_unilateral_case  Goal_categ  First_year Last_year  Policy_result  Sanctions_contrib  Success_score Comp_policies  Int_coop Int_assistance Coop_int_org  Int_org_sender  Int_org_sender_&_target_members  Length_years  Prior_relations Regime_type Regime_type2 Regime_type3 Political_stability_prior Political_stability_during  Cost_to_target  Cost_to_target_%GNP  Cost_to_target_per_capita Trade_linkage  GNP_ratio  Health_&_stability Sanction_type  Cost_to_sender  GDP_growth%5years_average Inflation%3years_average Target_int_monetary_code  Country_group\n",
       "id_case                                                                                                                                                                                                                                                                                                                                                                                                                                                                                                                                                                                                                                                                      \n",
       "14-1        UNITED KINGDOM     NaN     NaN     GERMANY                 Military victory        0                   0           4        1914      1918              4                  3             12             R         4              A           --               0                                0             4                1           5            2            2                         0                          0           843.0                  7.1                      12.58             9        1.0                   3         F,X,M               4                       3.58                  2.86667                      134              1\n",
       "17-1         UNITED STATES     NaN     NaN       JAPAN              Shipping for Allies        1                   1           5        1917      1918              2                  2              4            --         1             --           --               0                                0             1                2           5            1            2                         0                          0            23.0                  0.8                       0.44          20.5       13.0                   3             X               2                       5.40                     25.6                      158              1\n",
       "18-1        UNITED KINGDOM     NaN     NaN      RUSSIA           Destabilize Bolsheviks        0                   0           2        1918      1920              1                  2              2            RQ         4             --           --               0                                0             2                1           1           -1            2                       0.1                          0           446.0                  4.1                       2.49          18.5        1.0                   1         F,X,M               3                        NaN                     n.a.                      922              2\n",
       "21-1     LEAGUE OF NATIONS     NaN     NaN  YUGOSLAVIA  Military disruption vs. Albania        0                   0           3        1921      1921              4                  4             16            --         4             --           --               1                                1             1                2           3            0            2                       0.4                          0             0.0                  0.0                       0.00          26.5       37.0                   2            --               2                      -1.50                     n.a.                      188              2\n",
       "25-1     LEAGUE OF NATIONS     NaN     NaN      GREECE           Withdraw from Bulgaria        0                   0           3        1925      1925              4                  4             16            --         4             --           --               1                                1             1                2           0           -6            1                       0.9                          0             0.0                  0.0                       0.00            36       56.0                   2            --               2                       3.30                     48.8                      174              1"
      ]
     },
     "execution_count": 44,
     "metadata": {},
     "output_type": "execute_result"
    }
   ],
   "source": [
    "df.head()"
   ]
  },
  {
   "cell_type": "markdown",
   "metadata": {},
   "source": [
    "## Modelling part"
   ]
  },
  {
   "cell_type": "code",
   "execution_count": 81,
   "metadata": {},
   "outputs": [],
   "source": [
    "# Defininf X as all variables different from 'Success score', 'Policy result' and 'sanction contriution' and dropping \n",
    "# the last two asthey are correlated with the first one.\n",
    "\n",
    "data_table = df.drop(['Policy_result', 'Sanctions_contrib'], axis=1)\n",
    "\n",
    "# Copying 'Success score' column then dropping the first (to have it as last column)\n",
    "data_table['Success score'] = data_table['Success_score']\n",
    "data_table = data_table.drop(['Success_score'], axis=1)"
   ]
  },
  {
   "cell_type": "code",
   "execution_count": 82,
   "metadata": {},
   "outputs": [],
   "source": [
    "# Dropping 'Sender 2/3' columns\n",
    "data_table = data_table.drop(['Sender2','Sender3', 'Last_year', 'Regime_type', 'Regime_type2', 'Regime_type3',\n",
    "                             'Political_stability_prior','Political_stability_during','Trade_linkage',\n",
    "                             'Inflation%3years_average', 'Target_int_monetary_code', 'GDP_growth%5years_average'],\n",
    "                             axis =1)"
   ]
  },
  {
   "cell_type": "markdown",
   "metadata": {},
   "source": [
    "#### Encoding categorical variables to numeric ones"
   ]
  },
  {
   "cell_type": "code",
   "execution_count": 83,
   "metadata": {},
   "outputs": [],
   "source": [
    "from sklearn.preprocessing import LabelEncoder\n",
    "from sklearn.model_selection import train_test_split\n",
    "from sklearn.neural_network import MLPClassifier\n",
    "lb_make = LabelEncoder()"
   ]
  },
  {
   "cell_type": "code",
   "execution_count": 84,
   "metadata": {},
   "outputs": [
    {
     "data": {
      "text/html": [
       "<div>\n",
       "<style scoped>\n",
       "    .dataframe tbody tr th:only-of-type {\n",
       "        vertical-align: middle;\n",
       "    }\n",
       "\n",
       "    .dataframe tbody tr th {\n",
       "        vertical-align: top;\n",
       "    }\n",
       "\n",
       "    .dataframe thead th {\n",
       "        text-align: right;\n",
       "    }\n",
       "</style>\n",
       "<table border=\"1\" class=\"dataframe\">\n",
       "  <thead>\n",
       "    <tr style=\"text-align: right;\">\n",
       "      <th></th>\n",
       "      <th>Sender1</th>\n",
       "      <th>Target</th>\n",
       "      <th>Goal</th>\n",
       "      <th>US_case</th>\n",
       "      <th>US_unilateral_case</th>\n",
       "      <th>Goal_categ</th>\n",
       "      <th>First_year</th>\n",
       "      <th>Comp_policies</th>\n",
       "      <th>Int_coop</th>\n",
       "      <th>Int_assistance</th>\n",
       "      <th>Coop_int_org</th>\n",
       "      <th>Int_org_sender</th>\n",
       "      <th>Int_org_sender_&amp;_target_members</th>\n",
       "      <th>Length_years</th>\n",
       "      <th>Prior_relations</th>\n",
       "      <th>Cost_to_target</th>\n",
       "      <th>Cost_to_target_%GNP</th>\n",
       "      <th>Cost_to_target_per_capita</th>\n",
       "      <th>GNP_ratio</th>\n",
       "      <th>Health_&amp;_stability</th>\n",
       "      <th>Sanction_type</th>\n",
       "      <th>Cost_to_sender</th>\n",
       "      <th>Country_group</th>\n",
       "      <th>Success score</th>\n",
       "    </tr>\n",
       "    <tr>\n",
       "      <th>id_case</th>\n",
       "      <th></th>\n",
       "      <th></th>\n",
       "      <th></th>\n",
       "      <th></th>\n",
       "      <th></th>\n",
       "      <th></th>\n",
       "      <th></th>\n",
       "      <th></th>\n",
       "      <th></th>\n",
       "      <th></th>\n",
       "      <th></th>\n",
       "      <th></th>\n",
       "      <th></th>\n",
       "      <th></th>\n",
       "      <th></th>\n",
       "      <th></th>\n",
       "      <th></th>\n",
       "      <th></th>\n",
       "      <th></th>\n",
       "      <th></th>\n",
       "      <th></th>\n",
       "      <th></th>\n",
       "      <th></th>\n",
       "      <th></th>\n",
       "    </tr>\n",
       "  </thead>\n",
       "  <tbody>\n",
       "    <tr>\n",
       "      <th>14-1</th>\n",
       "      <td>UNITED KINGDOM</td>\n",
       "      <td>GERMANY</td>\n",
       "      <td>Military victory</td>\n",
       "      <td>0</td>\n",
       "      <td>0</td>\n",
       "      <td>4</td>\n",
       "      <td>1914</td>\n",
       "      <td>R</td>\n",
       "      <td>4</td>\n",
       "      <td>A</td>\n",
       "      <td>--</td>\n",
       "      <td>0</td>\n",
       "      <td>0</td>\n",
       "      <td>4</td>\n",
       "      <td>1</td>\n",
       "      <td>843.0</td>\n",
       "      <td>7.1</td>\n",
       "      <td>12.58</td>\n",
       "      <td>1.0</td>\n",
       "      <td>3</td>\n",
       "      <td>F,X,M</td>\n",
       "      <td>4</td>\n",
       "      <td>1</td>\n",
       "      <td>12</td>\n",
       "    </tr>\n",
       "    <tr>\n",
       "      <th>17-1</th>\n",
       "      <td>UNITED STATES</td>\n",
       "      <td>JAPAN</td>\n",
       "      <td>Shipping for Allies</td>\n",
       "      <td>1</td>\n",
       "      <td>1</td>\n",
       "      <td>5</td>\n",
       "      <td>1917</td>\n",
       "      <td>--</td>\n",
       "      <td>1</td>\n",
       "      <td>--</td>\n",
       "      <td>--</td>\n",
       "      <td>0</td>\n",
       "      <td>0</td>\n",
       "      <td>1</td>\n",
       "      <td>2</td>\n",
       "      <td>23.0</td>\n",
       "      <td>0.8</td>\n",
       "      <td>0.44</td>\n",
       "      <td>13.0</td>\n",
       "      <td>3</td>\n",
       "      <td>X</td>\n",
       "      <td>2</td>\n",
       "      <td>1</td>\n",
       "      <td>4</td>\n",
       "    </tr>\n",
       "    <tr>\n",
       "      <th>18-1</th>\n",
       "      <td>UNITED KINGDOM</td>\n",
       "      <td>RUSSIA</td>\n",
       "      <td>Destabilize Bolsheviks</td>\n",
       "      <td>0</td>\n",
       "      <td>0</td>\n",
       "      <td>2</td>\n",
       "      <td>1918</td>\n",
       "      <td>RQ</td>\n",
       "      <td>4</td>\n",
       "      <td>--</td>\n",
       "      <td>--</td>\n",
       "      <td>0</td>\n",
       "      <td>0</td>\n",
       "      <td>2</td>\n",
       "      <td>1</td>\n",
       "      <td>446.0</td>\n",
       "      <td>4.1</td>\n",
       "      <td>2.49</td>\n",
       "      <td>1.0</td>\n",
       "      <td>1</td>\n",
       "      <td>F,X,M</td>\n",
       "      <td>3</td>\n",
       "      <td>2</td>\n",
       "      <td>2</td>\n",
       "    </tr>\n",
       "    <tr>\n",
       "      <th>21-1</th>\n",
       "      <td>LEAGUE OF NATIONS</td>\n",
       "      <td>YUGOSLAVIA</td>\n",
       "      <td>Military disruption vs. Albania</td>\n",
       "      <td>0</td>\n",
       "      <td>0</td>\n",
       "      <td>3</td>\n",
       "      <td>1921</td>\n",
       "      <td>--</td>\n",
       "      <td>4</td>\n",
       "      <td>--</td>\n",
       "      <td>--</td>\n",
       "      <td>1</td>\n",
       "      <td>1</td>\n",
       "      <td>1</td>\n",
       "      <td>2</td>\n",
       "      <td>0.0</td>\n",
       "      <td>0.0</td>\n",
       "      <td>0.00</td>\n",
       "      <td>37.0</td>\n",
       "      <td>2</td>\n",
       "      <td>--</td>\n",
       "      <td>2</td>\n",
       "      <td>2</td>\n",
       "      <td>16</td>\n",
       "    </tr>\n",
       "    <tr>\n",
       "      <th>25-1</th>\n",
       "      <td>LEAGUE OF NATIONS</td>\n",
       "      <td>GREECE</td>\n",
       "      <td>Withdraw from Bulgaria</td>\n",
       "      <td>0</td>\n",
       "      <td>0</td>\n",
       "      <td>3</td>\n",
       "      <td>1925</td>\n",
       "      <td>--</td>\n",
       "      <td>4</td>\n",
       "      <td>--</td>\n",
       "      <td>--</td>\n",
       "      <td>1</td>\n",
       "      <td>1</td>\n",
       "      <td>1</td>\n",
       "      <td>2</td>\n",
       "      <td>0.0</td>\n",
       "      <td>0.0</td>\n",
       "      <td>0.00</td>\n",
       "      <td>56.0</td>\n",
       "      <td>2</td>\n",
       "      <td>--</td>\n",
       "      <td>2</td>\n",
       "      <td>1</td>\n",
       "      <td>16</td>\n",
       "    </tr>\n",
       "  </tbody>\n",
       "</table>\n",
       "</div>"
      ],
      "text/plain": [
       "                   Sender1      Target                             Goal  US_case  US_unilateral_case  Goal_categ  First_year Comp_policies  Int_coop Int_assistance Coop_int_org  Int_org_sender  Int_org_sender_&_target_members  Length_years  Prior_relations  Cost_to_target  Cost_to_target_%GNP  Cost_to_target_per_capita  GNP_ratio  Health_&_stability Sanction_type  Cost_to_sender  Country_group  Success score\n",
       "id_case                                                                                                                                                                                                                                                                                                                                                                                                                    \n",
       "14-1        UNITED KINGDOM     GERMANY                 Military victory        0                   0           4        1914             R         4              A           --               0                                0             4                1           843.0                  7.1                      12.58        1.0                   3         F,X,M               4              1             12\n",
       "17-1         UNITED STATES       JAPAN              Shipping for Allies        1                   1           5        1917            --         1             --           --               0                                0             1                2            23.0                  0.8                       0.44       13.0                   3             X               2              1              4\n",
       "18-1        UNITED KINGDOM      RUSSIA           Destabilize Bolsheviks        0                   0           2        1918            RQ         4             --           --               0                                0             2                1           446.0                  4.1                       2.49        1.0                   1         F,X,M               3              2              2\n",
       "21-1     LEAGUE OF NATIONS  YUGOSLAVIA  Military disruption vs. Albania        0                   0           3        1921            --         4             --           --               1                                1             1                2             0.0                  0.0                       0.00       37.0                   2            --               2              2             16\n",
       "25-1     LEAGUE OF NATIONS      GREECE           Withdraw from Bulgaria        0                   0           3        1925            --         4             --           --               1                                1             1                2             0.0                  0.0                       0.00       56.0                   2            --               2              1             16"
      ]
     },
     "execution_count": 84,
     "metadata": {},
     "output_type": "execute_result"
    }
   ],
   "source": [
    "data_table.head()"
   ]
  },
  {
   "cell_type": "code",
   "execution_count": 85,
   "metadata": {
    "scrolled": true
   },
   "outputs": [
    {
     "data": {
      "text/plain": [
       "Sender1                             object\n",
       "Target                              object\n",
       "Goal                                object\n",
       "US_case                              int64\n",
       "US_unilateral_case                   int64\n",
       "Goal_categ                           int64\n",
       "First_year                           int64\n",
       "Comp_policies                       object\n",
       "Int_coop                             int64\n",
       "Int_assistance                      object\n",
       "Coop_int_org                        object\n",
       "Int_org_sender                       int64\n",
       "Int_org_sender_&_target_members      int64\n",
       "Length_years                         int64\n",
       "Prior_relations                      int64\n",
       "Cost_to_target                     float64\n",
       "Cost_to_target_%GNP                float64\n",
       "Cost_to_target_per_capita          float64\n",
       "GNP_ratio                          float64\n",
       "Health_&_stability                   int64\n",
       "Sanction_type                       object\n",
       "Cost_to_sender                       int64\n",
       "Country_group                        int64\n",
       "Success score                        int64\n",
       "dtype: object"
      ]
     },
     "execution_count": 85,
     "metadata": {},
     "output_type": "execute_result"
    }
   ],
   "source": [
    "data_table.dtypes"
   ]
  },
  {
   "cell_type": "markdown",
   "metadata": {},
   "source": [
    "#### Training part with NN"
   ]
  },
  {
   "cell_type": "code",
   "execution_count": 94,
   "metadata": {},
   "outputs": [],
   "source": [
    "data_table = data_table.replace(to_replace=\"NaN\", value=None)"
   ]
  },
  {
   "cell_type": "code",
   "execution_count": 103,
   "metadata": {},
   "outputs": [],
   "source": [
    "X, y = data_table.iloc[:,2:36], data_table['Success score']\n",
    "X_train, X_test, y_train, y_test = train_test_split(X, y, test_size=0.33, random_state=0)"
   ]
  },
  {
   "cell_type": "code",
   "execution_count": 105,
   "metadata": {
    "scrolled": true
   },
   "outputs": [
    {
     "data": {
      "text/plain": [
       "Sender1                              int32\n",
       "Target                               int32\n",
       "Goal                                 int32\n",
       "US_case                              int64\n",
       "US_unilateral_case                   int64\n",
       "Goal_categ                           int64\n",
       "First_year                           int64\n",
       "Comp_policies                        int32\n",
       "Int_coop                             int64\n",
       "Int_assistance                       int32\n",
       "Coop_int_org                         int32\n",
       "Int_org_sender                       int64\n",
       "Int_org_sender_&_target_members      int64\n",
       "Length_years                         int64\n",
       "Prior_relations                      int64\n",
       "Cost_to_target                     float64\n",
       "Cost_to_target_%GNP                float64\n",
       "Cost_to_target_per_capita          float64\n",
       "GNP_ratio                          float64\n",
       "Health_&_stability                   int64\n",
       "Sanction_type                        int32\n",
       "Cost_to_sender                       int64\n",
       "Country_group                        int64\n",
       "Success score                        int64\n",
       "dtype: object"
      ]
     },
     "execution_count": 105,
     "metadata": {},
     "output_type": "execute_result"
    }
   ],
   "source": [
    "data_table.dtypes"
   ]
  },
  {
   "cell_type": "code",
   "execution_count": 106,
   "metadata": {},
   "outputs": [
    {
     "name": "stdout",
     "output_type": "stream",
     "text": [
      "Accuracy on training set : 0.49\n",
      "Accuracy on test set : 0.18\n"
     ]
    },
    {
     "name": "stderr",
     "output_type": "stream",
     "text": [
      "C:\\Users\\Formation\\Anaconda3\\lib\\site-packages\\sklearn\\neural_network\\multilayer_perceptron.py:566: ConvergenceWarning: Stochastic Optimizer: Maximum iterations (200) reached and the optimization hasn't converged yet.\n",
      "  % self.max_iter, ConvergenceWarning)\n"
     ]
    }
   ],
   "source": [
    "mlp = MLPClassifier(random_state=42)\n",
    "mlp.fit(X_train, y_train)\n",
    "\n",
    "print(\"Accuracy on training set : {:.2f}\".format(mlp.score(X_train, y_train)))\n",
    "print(\"Accuracy on test set : {:.2f}\".format(mlp.score(X_test, y_test)))"
   ]
  }
 ],
 "metadata": {
  "kernelspec": {
   "display_name": "Python 3",
   "language": "python",
   "name": "python3"
  },
  "language_info": {
   "codemirror_mode": {
    "name": "ipython",
    "version": 3
   },
   "file_extension": ".py",
   "mimetype": "text/x-python",
   "name": "python",
   "nbconvert_exporter": "python",
   "pygments_lexer": "ipython3",
   "version": "3.7.1"
  },
  "varInspector": {
   "cols": {
    "lenName": 16,
    "lenType": 16,
    "lenVar": 40
   },
   "kernels_config": {
    "python": {
     "delete_cmd_postfix": "",
     "delete_cmd_prefix": "del ",
     "library": "var_list.py",
     "varRefreshCmd": "print(var_dic_list())"
    },
    "r": {
     "delete_cmd_postfix": ") ",
     "delete_cmd_prefix": "rm(",
     "library": "var_list.r",
     "varRefreshCmd": "cat(var_dic_list()) "
    }
   },
   "types_to_exclude": [
    "module",
    "function",
    "builtin_function_or_method",
    "instance",
    "_Feature"
   ],
   "window_display": false
  }
 },
 "nbformat": 4,
 "nbformat_minor": 4
}
